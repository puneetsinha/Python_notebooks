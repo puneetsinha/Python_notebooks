{
 "cells": [
  {
   "cell_type": "code",
   "execution_count": 1,
   "metadata": {
    "collapsed": false
   },
   "outputs": [
    {
     "name": "stdout",
     "output_type": "stream",
     "text": [
      "Populating the interactive namespace from numpy and matplotlib\n"
     ]
    }
   ],
   "source": [
    "import os\n",
    "import numpy as np\n",
    "import pandas as pd\n",
    "import matplotlib.pyplot as plt\n",
    "import seaborn as sns\n",
    "\n",
    "%pylab inline\n",
    "pd.options.display.max_columns=100\n",
    "pd.options.display.max_rows=15"
   ]
  },
  {
   "cell_type": "code",
   "execution_count": 2,
   "metadata": {
    "collapsed": false
   },
   "outputs": [
    {
     "name": "stdout",
     "output_type": "stream",
     "text": [
      "D:\\analytixlabs\\Complete_datasets\n"
     ]
    }
   ],
   "source": [
    "#importing Dataset\n",
    "\n",
    "os.chdir(\"D:\\\\analytixlabs\\\\Complete_datasets\")\n",
    "print os.getcwd() \n",
    "Telecom=pd.read_csv(\"Proactive Attrition Management-Logistic Regression Case Study.csv\")\n"
   ]
  },
  {
   "cell_type": "code",
   "execution_count": 3,
   "metadata": {
    "collapsed": false
   },
   "outputs": [
    {
     "name": "stdout",
     "output_type": "stream",
     "text": [
      "(31047, 78)\n",
      "(40000, 78)\n",
      "Missing values per column:\n"
     ]
    },
    {
     "data": {
      "text/html": [
       "<div>\n",
       "<table border=\"1\" class=\"dataframe\">\n",
       "  <thead>\n",
       "    <tr style=\"text-align: right;\">\n",
       "      <th></th>\n",
       "      <th>REVENUE</th>\n",
       "      <th>MOU</th>\n",
       "      <th>RECCHRGE</th>\n",
       "      <th>DIRECTAS</th>\n",
       "      <th>OVERAGE</th>\n",
       "      <th>ROAM</th>\n",
       "      <th>CHANGEM</th>\n",
       "      <th>CHANGER</th>\n",
       "      <th>CSA</th>\n",
       "      <th>AGE1</th>\n",
       "      <th>AGE2</th>\n",
       "    </tr>\n",
       "  </thead>\n",
       "  <tbody>\n",
       "    <tr>\n",
       "      <th>31047</th>\n",
       "      <td>38.00</td>\n",
       "      <td>7.50</td>\n",
       "      <td>38.00</td>\n",
       "      <td>0.00</td>\n",
       "      <td>0.00</td>\n",
       "      <td>0.00</td>\n",
       "      <td>-1.50</td>\n",
       "      <td>0.00</td>\n",
       "      <td>MILMIL414</td>\n",
       "      <td>26.0</td>\n",
       "      <td>26.0</td>\n",
       "    </tr>\n",
       "    <tr>\n",
       "      <th>31048</th>\n",
       "      <td>55.23</td>\n",
       "      <td>570.50</td>\n",
       "      <td>71.98</td>\n",
       "      <td>0.00</td>\n",
       "      <td>0.00</td>\n",
       "      <td>0.00</td>\n",
       "      <td>38.50</td>\n",
       "      <td>0.00</td>\n",
       "      <td>NNYSYR315</td>\n",
       "      <td>56.0</td>\n",
       "      <td>0.0</td>\n",
       "    </tr>\n",
       "    <tr>\n",
       "      <th>31049</th>\n",
       "      <td>38.05</td>\n",
       "      <td>682.50</td>\n",
       "      <td>52.49</td>\n",
       "      <td>0.25</td>\n",
       "      <td>0.00</td>\n",
       "      <td>0.00</td>\n",
       "      <td>147.50</td>\n",
       "      <td>-3.06</td>\n",
       "      <td>OKCTUL918</td>\n",
       "      <td>28.0</td>\n",
       "      <td>0.0</td>\n",
       "    </tr>\n",
       "    <tr>\n",
       "      <th>31050</th>\n",
       "      <td>97.34</td>\n",
       "      <td>1039.00</td>\n",
       "      <td>50.00</td>\n",
       "      <td>4.95</td>\n",
       "      <td>419.50</td>\n",
       "      <td>0.00</td>\n",
       "      <td>198.00</td>\n",
       "      <td>23.26</td>\n",
       "      <td>MILMIL414</td>\n",
       "      <td>38.0</td>\n",
       "      <td>24.0</td>\n",
       "    </tr>\n",
       "    <tr>\n",
       "      <th>31051</th>\n",
       "      <td>35.30</td>\n",
       "      <td>24.25</td>\n",
       "      <td>34.98</td>\n",
       "      <td>0.00</td>\n",
       "      <td>0.00</td>\n",
       "      <td>0.00</td>\n",
       "      <td>19.75</td>\n",
       "      <td>-0.31</td>\n",
       "      <td>SANMCA210</td>\n",
       "      <td>36.0</td>\n",
       "      <td>34.0</td>\n",
       "    </tr>\n",
       "    <tr>\n",
       "      <th>31052</th>\n",
       "      <td>81.00</td>\n",
       "      <td>1056.25</td>\n",
       "      <td>75.00</td>\n",
       "      <td>0.00</td>\n",
       "      <td>0.00</td>\n",
       "      <td>0.00</td>\n",
       "      <td>42.75</td>\n",
       "      <td>2.35</td>\n",
       "      <td>PITHOM412</td>\n",
       "      <td>46.0</td>\n",
       "      <td>68.0</td>\n",
       "    </tr>\n",
       "    <tr>\n",
       "      <th>31053</th>\n",
       "      <td>63.02</td>\n",
       "      <td>440.25</td>\n",
       "      <td>59.98</td>\n",
       "      <td>0.00</td>\n",
       "      <td>5.75</td>\n",
       "      <td>1.31</td>\n",
       "      <td>-16.25</td>\n",
       "      <td>0.21</td>\n",
       "      <td>SLCSLC801</td>\n",
       "      <td>99.0</td>\n",
       "      <td>0.0</td>\n",
       "    </tr>\n",
       "    <tr>\n",
       "      <th>...</th>\n",
       "      <td>...</td>\n",
       "      <td>...</td>\n",
       "      <td>...</td>\n",
       "      <td>...</td>\n",
       "      <td>...</td>\n",
       "      <td>...</td>\n",
       "      <td>...</td>\n",
       "      <td>...</td>\n",
       "      <td>...</td>\n",
       "      <td>...</td>\n",
       "      <td>...</td>\n",
       "    </tr>\n",
       "    <tr>\n",
       "      <th>71040</th>\n",
       "      <td>33.63</td>\n",
       "      <td>28.00</td>\n",
       "      <td>29.99</td>\n",
       "      <td>0.00</td>\n",
       "      <td>0.00</td>\n",
       "      <td>0.00</td>\n",
       "      <td>0.00</td>\n",
       "      <td>0.00</td>\n",
       "      <td>NEVENC760</td>\n",
       "      <td>0.0</td>\n",
       "      <td>0.0</td>\n",
       "    </tr>\n",
       "    <tr>\n",
       "      <th>71041</th>\n",
       "      <td>85.15</td>\n",
       "      <td>815.00</td>\n",
       "      <td>87.99</td>\n",
       "      <td>0.00</td>\n",
       "      <td>1.00</td>\n",
       "      <td>0.39</td>\n",
       "      <td>0.00</td>\n",
       "      <td>0.00</td>\n",
       "      <td>LAXVNY818</td>\n",
       "      <td>64.0</td>\n",
       "      <td>64.0</td>\n",
       "    </tr>\n",
       "    <tr>\n",
       "      <th>71042</th>\n",
       "      <td>117.49</td>\n",
       "      <td>384.00</td>\n",
       "      <td>29.99</td>\n",
       "      <td>0.00</td>\n",
       "      <td>250.00</td>\n",
       "      <td>0.00</td>\n",
       "      <td>0.00</td>\n",
       "      <td>0.00</td>\n",
       "      <td>LAXDOW562</td>\n",
       "      <td>22.0</td>\n",
       "      <td>0.0</td>\n",
       "    </tr>\n",
       "    <tr>\n",
       "      <th>71043</th>\n",
       "      <td>NaN</td>\n",
       "      <td>NaN</td>\n",
       "      <td>NaN</td>\n",
       "      <td>NaN</td>\n",
       "      <td>NaN</td>\n",
       "      <td>NaN</td>\n",
       "      <td>NaN</td>\n",
       "      <td>NaN</td>\n",
       "      <td>LAXRIV909</td>\n",
       "      <td>34.0</td>\n",
       "      <td>26.0</td>\n",
       "    </tr>\n",
       "    <tr>\n",
       "      <th>71044</th>\n",
       "      <td>NaN</td>\n",
       "      <td>NaN</td>\n",
       "      <td>NaN</td>\n",
       "      <td>NaN</td>\n",
       "      <td>NaN</td>\n",
       "      <td>NaN</td>\n",
       "      <td>NaN</td>\n",
       "      <td>NaN</td>\n",
       "      <td>LAXSFN818</td>\n",
       "      <td>68.0</td>\n",
       "      <td>64.0</td>\n",
       "    </tr>\n",
       "    <tr>\n",
       "      <th>71045</th>\n",
       "      <td>NaN</td>\n",
       "      <td>NaN</td>\n",
       "      <td>NaN</td>\n",
       "      <td>NaN</td>\n",
       "      <td>NaN</td>\n",
       "      <td>NaN</td>\n",
       "      <td>NaN</td>\n",
       "      <td>NaN</td>\n",
       "      <td>LAXCOR909</td>\n",
       "      <td>0.0</td>\n",
       "      <td>0.0</td>\n",
       "    </tr>\n",
       "    <tr>\n",
       "      <th>71046</th>\n",
       "      <td>NaN</td>\n",
       "      <td>NaN</td>\n",
       "      <td>NaN</td>\n",
       "      <td>NaN</td>\n",
       "      <td>NaN</td>\n",
       "      <td>NaN</td>\n",
       "      <td>NaN</td>\n",
       "      <td>NaN</td>\n",
       "      <td>LAXCDG310</td>\n",
       "      <td>36.0</td>\n",
       "      <td>0.0</td>\n",
       "    </tr>\n",
       "  </tbody>\n",
       "</table>\n",
       "<p>40000 rows × 11 columns</p>\n",
       "</div>"
      ],
      "text/plain": [
       "       REVENUE      MOU  RECCHRGE  DIRECTAS  OVERAGE  ROAM  CHANGEM  CHANGER  \\\n",
       "31047    38.00     7.50     38.00      0.00     0.00  0.00    -1.50     0.00   \n",
       "31048    55.23   570.50     71.98      0.00     0.00  0.00    38.50     0.00   \n",
       "31049    38.05   682.50     52.49      0.25     0.00  0.00   147.50    -3.06   \n",
       "31050    97.34  1039.00     50.00      4.95   419.50  0.00   198.00    23.26   \n",
       "31051    35.30    24.25     34.98      0.00     0.00  0.00    19.75    -0.31   \n",
       "31052    81.00  1056.25     75.00      0.00     0.00  0.00    42.75     2.35   \n",
       "31053    63.02   440.25     59.98      0.00     5.75  1.31   -16.25     0.21   \n",
       "...        ...      ...       ...       ...      ...   ...      ...      ...   \n",
       "71040    33.63    28.00     29.99      0.00     0.00  0.00     0.00     0.00   \n",
       "71041    85.15   815.00     87.99      0.00     1.00  0.39     0.00     0.00   \n",
       "71042   117.49   384.00     29.99      0.00   250.00  0.00     0.00     0.00   \n",
       "71043      NaN      NaN       NaN       NaN      NaN   NaN      NaN      NaN   \n",
       "71044      NaN      NaN       NaN       NaN      NaN   NaN      NaN      NaN   \n",
       "71045      NaN      NaN       NaN       NaN      NaN   NaN      NaN      NaN   \n",
       "71046      NaN      NaN       NaN       NaN      NaN   NaN      NaN      NaN   \n",
       "\n",
       "             CSA  AGE1  AGE2  \n",
       "31047  MILMIL414  26.0  26.0  \n",
       "31048  NNYSYR315  56.0   0.0  \n",
       "31049  OKCTUL918  28.0   0.0  \n",
       "31050  MILMIL414  38.0  24.0  \n",
       "31051  SANMCA210  36.0  34.0  \n",
       "31052  PITHOM412  46.0  68.0  \n",
       "31053  SLCSLC801  99.0   0.0  \n",
       "...          ...   ...   ...  \n",
       "71040  NEVENC760   0.0   0.0  \n",
       "71041  LAXVNY818  64.0  64.0  \n",
       "71042  LAXDOW562  22.0   0.0  \n",
       "71043  LAXRIV909  34.0  26.0  \n",
       "71044  LAXSFN818  68.0  64.0  \n",
       "71045  LAXCOR909   0.0   0.0  \n",
       "71046  LAXCDG310  36.0   0.0  \n",
       "\n",
       "[40000 rows x 11 columns]"
      ]
     },
     "execution_count": 3,
     "metadata": {},
     "output_type": "execute_result"
    }
   ],
   "source": [
    "Val_Telecom=Telecom.loc[Telecom.CHURNDEP.isnull()]\n",
    "TT_Telecom=Telecom.loc[Telecom.CHURNDEP.isin([0,1])]\n",
    "print Val_Telecom.shape\n",
    "print TT_Telecom.shape\n",
    "\n",
    "def missing(x):\n",
    "    return sum(x.isnull())\n",
    "\n",
    "print \"Missing values per column:\"\n",
    "TT_Telecom.loc[ : ,TT_Telecom.apply(missing, axis=0)!=0]"
   ]
  },
  {
   "cell_type": "code",
   "execution_count": 57,
   "metadata": {
    "collapsed": false
   },
   "outputs": [
    {
     "data": {
      "text/plain": [
       "CHURNDEP  MCYCLE\n",
       "0.0       0         19736\n",
       "          1           264\n",
       "1.0       0         19706\n",
       "          1           294\n",
       "Name: CUSTOMER, dtype: int64"
      ]
     },
     "execution_count": 57,
     "metadata": {},
     "output_type": "execute_result"
    }
   ],
   "source": [
    "TT_Telecom.pivot_table(index=['CHURNDEP','MCYCLE'],values='CUSTOMER',aggfunc='count')"
   ]
  },
  {
   "cell_type": "code",
   "execution_count": null,
   "metadata": {
    "collapsed": false
   },
   "outputs": [],
   "source": [
    "#checking some columns how the missing values look\n",
    "TT_Telecom.apply(missing, axis=0).sort_values(ascending=False)"
   ]
  },
  {
   "cell_type": "code",
   "execution_count": 4,
   "metadata": {
    "collapsed": false
   },
   "outputs": [
    {
     "name": "stderr",
     "output_type": "stream",
     "text": [
      "C:\\Users\\Lenovo\\Anaconda2\\lib\\site-packages\\ipykernel\\__main__.py:3: SettingWithCopyWarning: \n",
      "A value is trying to be set on a copy of a slice from a DataFrame\n",
      "\n",
      "See the caveats in the documentation: http://pandas.pydata.org/pandas-docs/stable/indexing.html#indexing-view-versus-copy\n",
      "  app.launch_new_instance()\n",
      "C:\\Users\\Lenovo\\Anaconda2\\lib\\site-packages\\ipykernel\\__main__.py:4: SettingWithCopyWarning: \n",
      "A value is trying to be set on a copy of a slice from a DataFrame\n",
      "\n",
      "See the caveats in the documentation: http://pandas.pydata.org/pandas-docs/stable/indexing.html#indexing-view-versus-copy\n",
      "C:\\Users\\Lenovo\\Anaconda2\\lib\\site-packages\\pandas\\core\\generic.py:3191: SettingWithCopyWarning: \n",
      "A value is trying to be set on a copy of a slice from a DataFrame\n",
      "\n",
      "See the caveats in the documentation: http://pandas.pydata.org/pandas-docs/stable/indexing.html#indexing-view-versus-copy\n",
      "  self._update_inplace(new_data)\n"
     ]
    }
   ],
   "source": [
    "#removing these 2 columns will give us the base model with any NAs['CALIBRAT' ,'CALLFWDV' ,'CALLWAIT',]\n",
    "\n",
    "TT_Telecom.drop(labels=['CHURN','CALIBRAT' ,'CALLFWDV' ,'CALLWAIT','CUSTOMER','MAILORD','RETCALL','MODELS','MOUREC','BLCKVCE'],inplace=True,axis=1)\n",
    "TT_Telecom.dropna(subset=['AGE1','CHANGEM'],inplace=True)\n",
    "\n",
    "#CSA cant be identified so we we will keep them as missing\n",
    "TT_Telecom.CSA.fillna('Missing',inplace=True)"
   ]
  },
  {
   "cell_type": "code",
   "execution_count": 5,
   "metadata": {
    "collapsed": false
   },
   "outputs": [
    {
     "name": "stdout",
     "output_type": "stream",
     "text": [
      "(31152, 72)\n",
      "(7789, 72)\n",
      "(31152L,)\n",
      "(7789L,)\n"
     ]
    }
   ],
   "source": [
    "X=TT_Telecom.ix[:,:-1]\n",
    "y=TT_Telecom.CHURNDEP\n",
    "#X_test=Val_Telecom.ix[:,:-1]\n",
    "#y_test=Val_Telecom.CHURNDEP\n",
    "\n",
    "from sklearn.cross_validation import train_test_split\n",
    "X_train,X_test,y_train, y_test=train_test_split(X,y,test_size=0.20,random_state=0)\n",
    "\n",
    "print X_train.shape\n",
    "print X_test.shape\n",
    "print y_train.shape\n",
    "print y_test.shape"
   ]
  },
  {
   "cell_type": "code",
   "execution_count": 1,
   "metadata": {
    "collapsed": false
   },
   "outputs": [
    {
     "ename": "NameError",
     "evalue": "name 'X_train' is not defined",
     "output_type": "error",
     "traceback": [
      "\u001b[1;31m---------------------------------------------------------------------------\u001b[0m",
      "\u001b[1;31mNameError\u001b[0m                                 Traceback (most recent call last)",
      "\u001b[1;32m<ipython-input-1-aeb7f40e04f1>\u001b[0m in \u001b[0;36m<module>\u001b[1;34m()\u001b[0m\n\u001b[0;32m      1\u001b[0m \u001b[1;32mfrom\u001b[0m \u001b[0msklearn\u001b[0m\u001b[1;33m.\u001b[0m\u001b[0mpreprocessing\u001b[0m \u001b[1;32mimport\u001b[0m \u001b[0mLabelEncoder\u001b[0m\u001b[1;33m\u001b[0m\u001b[0m\n\u001b[0;32m      2\u001b[0m \u001b[0mlbl_enc\u001b[0m\u001b[1;33m=\u001b[0m\u001b[0mLabelEncoder\u001b[0m\u001b[1;33m(\u001b[0m\u001b[1;33m)\u001b[0m\u001b[1;33m\u001b[0m\u001b[0m\n\u001b[1;32m----> 3\u001b[1;33m \u001b[0mlbl_enc\u001b[0m\u001b[1;33m.\u001b[0m\u001b[0mfit\u001b[0m\u001b[1;33m(\u001b[0m\u001b[0mX_train\u001b[0m\u001b[1;33m[\u001b[0m\u001b[1;34m'CSA'\u001b[0m\u001b[1;33m]\u001b[0m\u001b[1;33m)\u001b[0m\u001b[1;33m\u001b[0m\u001b[0m\n\u001b[0m\u001b[0;32m      4\u001b[0m \u001b[0mX_train\u001b[0m\u001b[1;33m.\u001b[0m\u001b[0mCSA\u001b[0m\u001b[1;33m=\u001b[0m\u001b[0mlbl_enc\u001b[0m\u001b[1;33m.\u001b[0m\u001b[0mtransform\u001b[0m\u001b[1;33m(\u001b[0m\u001b[0mX_train\u001b[0m\u001b[1;33m[\u001b[0m\u001b[1;34m'CSA'\u001b[0m\u001b[1;33m]\u001b[0m\u001b[1;33m)\u001b[0m\u001b[1;33m\u001b[0m\u001b[0m\n\u001b[0;32m      5\u001b[0m \u001b[1;33m\u001b[0m\u001b[0m\n",
      "\u001b[1;31mNameError\u001b[0m: name 'X_train' is not defined"
     ]
    }
   ],
   "source": [
    "from sklearn.preprocessing import LabelEncoder\n",
    "lbl_enc=LabelEncoder()\n",
    "lbl_enc.fit(X_train['CSA'])\n",
    "X_train.CSA=lbl_enc.transform(X_train['CSA'])\n",
    "\n",
    "lbl_enc.fit(X_test['CSA'])\n",
    "X_test.CSA=lbl_enc.transform(X_test['CSA'])"
   ]
  },
  {
   "cell_type": "markdown",
   "metadata": {},
   "source": [
    "# Method 1\n"
   ]
  },
  {
   "cell_type": "code",
   "execution_count": null,
   "metadata": {
    "collapsed": true
   },
   "outputs": [],
   "source": [
    "#applying RFE\n",
    "from sklearn.feature_selection import RFE\n",
    "from sklearn.linear_model import LogisticRegression\n",
    "from sklearn.ensemble import ExtraTreesClassifier,AdaBoostClassifier,BaggingClassifier,GradientBoostingClassifier\n",
    "\n",
    "\n",
    "logclf=LogisticRegression()\n",
    "ETclf=ExtraTreesClassifier()\n",
    "adbclf=AdaBoostClassifier()\n",
    "bagclf=BaggingClassifier()"
   ]
  },
  {
   "cell_type": "code",
   "execution_count": null,
   "metadata": {
    "collapsed": false
   },
   "outputs": [],
   "source": [
    "#def features_make80percent(classifier=logclf,)\n",
    "\n",
    "rfe = RFE(logclf, 15)\n",
    "rfe = rfe.fit(X_train, y_train)\n",
    "\n",
    "# summarize the selection of the attributes\n",
    "print(rfe.support_)\n",
    "print(rfe.ranking_)"
   ]
  },
  {
   "cell_type": "code",
   "execution_count": null,
   "metadata": {
    "collapsed": false
   },
   "outputs": [],
   "source": [
    "feature_list=sorted([tup for tup in zip(rfe.ranking_,X_train)])\n",
    "\n",
    "top_features=[col for (rank,col) in feature_list[0:15]]\n",
    "top_features"
   ]
  },
  {
   "cell_type": "code",
   "execution_count": null,
   "metadata": {
    "collapsed": false
   },
   "outputs": [],
   "source": [
    "fin_X_train=X_train[features[4]]\n",
    "fin_X_train.shape\n",
    "fin_X_test=X_test[features[4]]\n",
    "print fin_X_train.shape\n",
    "print X_train.shape\n",
    "print X_test.shape\n",
    "print fin_X_test.shape"
   ]
  },
  {
   "cell_type": "code",
   "execution_count": null,
   "metadata": {
    "collapsed": false
   },
   "outputs": [],
   "source": [
    "from sklearn.grid_search import GridSearchCV\n",
    "\n",
    "gb = GradientBoostingClassifier(n_estimators=100, subsample=.8)\n",
    "\n",
    "params = {\n",
    "    'learning_rate': [0.05, 0.1, 0.5],\n",
    "    'max_features': [0.5, 1],\n",
    "    'max_depth': [3, 4, 5],\n",
    "}\n",
    "\n",
    "gs = GridSearchCV(gb, params, cv=10, scoring='roc_auc', n_jobs=4)\n",
    "gs.fit(fin_X_train, y_train)\n",
    "\n",
    "\n",
    "y_true, y_pred = y_test, gs.predict(fin_X_test)"
   ]
  },
  {
   "cell_type": "code",
   "execution_count": null,
   "metadata": {
    "collapsed": false
   },
   "outputs": [],
   "source": [
    "#Metrics\n",
    "\n",
    "from sklearn.metrics import classification_report,confusion_matrix,accuracy_score\n",
    "print(classification_report(y_true, y_pred))\n",
    "print '*'*100\n",
    "print \"confusion matrix\"\n",
    "print '-'*100\n",
    "print confusion_matrix(y_true, y_pred)\n",
    "print '*'*100\n",
    "print \"acccuracy Score\"\n",
    "print accuracy_score(y_true, y_pred)\n"
   ]
  },
  {
   "cell_type": "code",
   "execution_count": null,
   "metadata": {
    "collapsed": false
   },
   "outputs": [],
   "source": [
    "#dont Run\n",
    "features=[]\n",
    "for max_features in range(20,30,2):\n",
    "    rfe = RFE(logclf, max_features)\n",
    "    rfe = rfe.fit(X_train, y_train)\n",
    "    feature_list=sorted([tup for tup in zip(rfe.ranking_,X_train)])\n",
    "    top_features=[col for (rank,col) in feature_list[0:max_features]]\n",
    "    features.append(top_features)"
   ]
  },
  {
   "cell_type": "code",
   "execution_count": null,
   "metadata": {
    "collapsed": false
   },
   "outputs": [],
   "source": [
    "#X_train[features[5]]\n",
    "from sklearn.svm import SVC\n",
    "svm=SVC(C=0.1,gamma='auto',kernel='linear')\n",
    "gs = GridSearchCV(svm, params, cv=5, scoring='roc_auc')\n",
    "gs.fit(fin_X_train, y_train)\n",
    "\n",
    "y_true, y_pred = y_test, gs.predict(fin_X_test)\n",
    "from sklearn.metrics import classification_report,confusion_matrix,accuracy_score\n",
    "print(classification_report(y_true, y_pred))\n",
    "print '*'*100\n",
    "print \"confusion matrix\"\n",
    "print '-'*100\n",
    "print confusion_matrix(y_true, y_pred)\n",
    "print '*'*100\n",
    "print \"acccuracy Score\"\n",
    "print accuracy_score(y_true, y_pred)"
   ]
  },
  {
   "cell_type": "markdown",
   "metadata": {},
   "source": [
    "---"
   ]
  },
  {
   "cell_type": "markdown",
   "metadata": {
    "collapsed": true
   },
   "source": [
    "# METHOD 2\n",
    "## Feature selection\n",
    "- http://blog.datadive.net/selecting-good-features-part-iv-stability-selection-rfe-and-everything-side-by-side/\n",
    "\n",
    "- Stabilty method \n",
    "---"
   ]
  },
  {
   "cell_type": "code",
   "execution_count": 70,
   "metadata": {
    "collapsed": false
   },
   "outputs": [
    {
     "name": "stdout",
     "output_type": "stream",
     "text": [
      "Features sorted by their score:\n",
      "[(0.0, 'WEBCAP'), (0.0, 'UNIQSUBS'), (0.0, 'UNANSVCE'), (0.0, 'TRUCK'), (0.0, 'TRAVEL'), (0.0, 'THREEWAY'), (0.0, 'SETPRCM'), (0.0, 'SETPRC'), (0.0, 'RV'), (0.0, 'ROAM'), (0.0, 'REVENUE'), (0.0, 'RETCALLS'), (0.0, 'RETCALL'), (0.0, 'RETACCPT'), (0.0, 'REFURB'), (0.0, 'REFER'), (0.0, 'RECCHRGE'), (0.0, 'PRIZMUB'), (0.0, 'PRIZMTWN'), (0.0, 'PRIZMRUR'), (0.0, 'PHONES'), (0.0, 'PEAKVCE'), (0.0, 'PCOWN'), (0.0, 'OWNRENT'), (0.0, 'OVERAGE'), (0.0, 'OUTCALLS'), (0.0, 'OPEAKVCE'), (0.0, 'OCCSTUD'), (0.0, 'OCCSELF'), (0.0, 'OCCRET'), (0.0, 'OCCPROF'), (0.0, 'OCCHMKR'), (0.0, 'OCCCRFT'), (0.0, 'OCCCLER'), (0.0, 'NEWCELLY'), (0.0, 'NEWCELLN'), (0.0, 'MOUREC'), (0.0, 'MOU'), (0.0, 'MONTHS'), (0.0, 'MODELS'), (0.0, 'MCYCLE'), (0.0, 'MARRYYES'), (0.0, 'MARRYUN'), (0.0, 'MARRYNO'), (0.0, 'MAILRES'), (0.0, 'MAILORD'), (0.0, 'MAILFLAG'), (0.0, 'INCOME'), (0.0, 'INCMISS'), (0.0, 'INCALLS'), (0.0, 'EQPDAYS'), (0.0, 'DROPVCE'), (0.0, 'DROPBLK'), (0.0, 'DIRECTAS'), (0.0, 'CUSTOMER'), (0.0, 'CUSTCARE'), (0.0, 'CSA'), (0.0, 'CREDITZ'), (0.0, 'CREDITGY'), (0.0, 'CREDITDE'), (0.0, 'CREDITCD'), (0.0, 'CREDITC'), (0.0, 'CREDITB'), (0.0, 'CREDITAD'), (0.0, 'CREDITAA'), (0.0, 'CREDITA'), (0.0, 'CHILDREN'), (0.0, 'CHANGER'), (0.0, 'CHANGEM'), (0.0, 'BLCKVCE'), (0.0, 'AGE2'), (0.0, 'AGE1'), (0.0, 'ACTVSUBS')]\n"
     ]
    }
   ],
   "source": [
    "from sklearn.linear_model import RandomizedLasso\n",
    "import warnings \n",
    "warnings.filterwarnings(\"ignore\", category=DeprecationWarning)\n",
    "\n",
    "rlasso = RandomizedLasso(alpha=0.025)\n",
    "rlasso.fit(X_train, y_train)\n",
    "names=X_train.columns.tolist()\n",
    " \n",
    "print \"Features sorted by their score:\"\n",
    "print sorted(zip(map(lambda x: round(x, 4), rlasso.scores_), \n",
    "                 names), reverse=True)"
   ]
  },
  {
   "cell_type": "code",
   "execution_count": 77,
   "metadata": {
    "collapsed": false
   },
   "outputs": [
    {
     "data": {
      "text/plain": [
       "72"
      ]
     },
     "execution_count": 77,
     "metadata": {},
     "output_type": "execute_result"
    }
   ],
   "source": [
    "from sklearn.linear_model import (LinearRegression, Ridge, \n",
    "                                  Lasso, RandomizedLasso)\n",
    "lr = LinearRegression(normalize=True)\n",
    "lr.fit(X_train, y_train)\n",
    "sorted(zip(lr.coef_, \n",
    "                 names), reverse=True)\n",
    "#sorted(zip(lr.rank_,names),reverse=True)\n",
    "lr.rank_"
   ]
  },
  {
   "cell_type": "code",
   "execution_count": 80,
   "metadata": {
    "collapsed": false
   },
   "outputs": [
    {
     "name": "stdout",
     "output_type": "stream",
     "text": [
      "**************************************************SCORES**************************************************\n"
     ]
    }
   ],
   "source": [
    "print '*'*50 + 'SCORES'+ '*'*50"
   ]
  },
  {
   "cell_type": "code",
   "execution_count": 81,
   "metadata": {
    "collapsed": false
   },
   "outputs": [
    {
     "name": "stdout",
     "output_type": "stream",
     "text": [
      "**************************************************SCORES**************************************************\n",
      "Features sorted by their score:\n"
     ]
    },
    {
     "ename": "NotFittedError",
     "evalue": "Estimator not fitted, call `fit` before `feature_importances_`.",
     "output_type": "error",
     "traceback": [
      "\u001b[1;31m---------------------------------------------------------------------------\u001b[0m",
      "\u001b[1;31mNotFittedError\u001b[0m                            Traceback (most recent call last)",
      "\u001b[1;32m<ipython-input-81-2fe711410f52>\u001b[0m in \u001b[0;36m<module>\u001b[1;34m()\u001b[0m\n\u001b[0;32m     12\u001b[0m \u001b[1;32mprint\u001b[0m \u001b[1;34m'*'\u001b[0m\u001b[1;33m*\u001b[0m\u001b[1;36m50\u001b[0m \u001b[1;33m+\u001b[0m \u001b[1;34m'SCORES'\u001b[0m\u001b[1;33m+\u001b[0m \u001b[1;34m'*'\u001b[0m\u001b[1;33m*\u001b[0m\u001b[1;36m50\u001b[0m\u001b[1;33m\u001b[0m\u001b[0m\n\u001b[0;32m     13\u001b[0m \u001b[1;32mprint\u001b[0m \u001b[1;34m\"Features sorted by their score:\"\u001b[0m\u001b[1;33m\u001b[0m\u001b[0m\n\u001b[1;32m---> 14\u001b[1;33m print sorted(zip(map(lambda x: round(x, 4), rf.feature_importances_), names), \n\u001b[0m\u001b[0;32m     15\u001b[0m              reverse=True)\n\u001b[0;32m     16\u001b[0m \u001b[1;32mprint\u001b[0m \u001b[1;34m'*'\u001b[0m\u001b[1;33m*\u001b[0m\u001b[1;36m50\u001b[0m \u001b[1;33m+\u001b[0m \u001b[1;34m'------------'\u001b[0m\u001b[1;33m+\u001b[0m \u001b[1;34m'*'\u001b[0m\u001b[1;33m*\u001b[0m\u001b[1;36m50\u001b[0m\u001b[1;33m\u001b[0m\u001b[0m\n",
      "\u001b[1;32mC:\\Users\\Lenovo\\Anaconda2\\lib\\site-packages\\sklearn\\ensemble\\forest.pyc\u001b[0m in \u001b[0;36mfeature_importances_\u001b[1;34m(self)\u001b[0m\n\u001b[0;32m    329\u001b[0m         \"\"\"\n\u001b[0;32m    330\u001b[0m         \u001b[1;32mif\u001b[0m \u001b[0mself\u001b[0m\u001b[1;33m.\u001b[0m\u001b[0mestimators_\u001b[0m \u001b[1;32mis\u001b[0m \u001b[0mNone\u001b[0m \u001b[1;32mor\u001b[0m \u001b[0mlen\u001b[0m\u001b[1;33m(\u001b[0m\u001b[0mself\u001b[0m\u001b[1;33m.\u001b[0m\u001b[0mestimators_\u001b[0m\u001b[1;33m)\u001b[0m \u001b[1;33m==\u001b[0m \u001b[1;36m0\u001b[0m\u001b[1;33m:\u001b[0m\u001b[1;33m\u001b[0m\u001b[0m\n\u001b[1;32m--> 331\u001b[1;33m             raise NotFittedError(\"Estimator not fitted, \"\n\u001b[0m\u001b[0;32m    332\u001b[0m                                  \"call `fit` before `feature_importances_`.\")\n\u001b[0;32m    333\u001b[0m \u001b[1;33m\u001b[0m\u001b[0m\n",
      "\u001b[1;31mNotFittedError\u001b[0m: Estimator not fitted, call `fit` before `feature_importances_`."
     ]
    }
   ],
   "source": [
    "from sklearn.ensemble import RandomForestRegressor\n",
    "from sklearn.grid_search import GridSearchCV\n",
    "\n",
    "params={'n_estimators': [100,120,300],\n",
    "        'max_depth': [5,8]}\n",
    "rf = RandomForestRegressor()\n",
    "\n",
    "\n",
    "gs = GridSearchCV(rf,params, cv=5, scoring='roc_auc')\n",
    "gs.fit(X_train, y_train)\n",
    "\n"
   ]
  },
  {
   "cell_type": "code",
   "execution_count": 85,
   "metadata": {
    "collapsed": false
   },
   "outputs": [
    {
     "name": "stdout",
     "output_type": "stream",
     "text": [
      "RandomForestRegressor(bootstrap=True, criterion='mse', max_depth=8,\n",
      "           max_features='auto', max_leaf_nodes=None, min_samples_leaf=1,\n",
      "           min_samples_split=2, min_weight_fraction_leaf=0.0,\n",
      "           n_estimators=300, n_jobs=1, oob_score=False, random_state=None,\n",
      "           verbose=0, warm_start=False)\n",
      "{'n_estimators': 300, 'max_depth': 8}\n",
      "0.660706452466\n",
      "5\n",
      "raise\n",
      "[mean: 0.64682, std: 0.00870, params: {'n_estimators': 100, 'max_depth': 5}, mean: 0.64681, std: 0.00924, params: {'n_estimators': 120, 'max_depth': 5}, mean: 0.64766, std: 0.00887, params: {'n_estimators': 300, 'max_depth': 5}, mean: 0.65951, std: 0.00896, params: {'n_estimators': 100, 'max_depth': 8}, mean: 0.65967, std: 0.00806, params: {'n_estimators': 120, 'max_depth': 8}, mean: 0.66071, std: 0.00835, params: {'n_estimators': 300, 'max_depth': 8}]\n",
      "roc_auc\n",
      "make_scorer(roc_auc_score, needs_threshold=True)\n"
     ]
    }
   ],
   "source": [
    "print gs.best_estimator_\n",
    "print gs.best_params_\n",
    "print gs.best_score_\n",
    "print gs.cv\n",
    "\n",
    "print gs.error_score\n",
    "print gs.grid_scores_\n",
    "print gs.scoring\n",
    "print gs.scorer_\n"
   ]
  },
  {
   "cell_type": "code",
   "execution_count": null,
   "metadata": {
    "collapsed": true
   },
   "outputs": [],
   "source": [
    "y_true, y_pred = y_test, gs.predict(X_test)\n",
    "\n",
    "\n",
    "print gs.best_params_\n",
    "print gs.best_score_\n",
    "print gs.score\n",
    "\n",
    "\n",
    "print '*'*50 + 'METRICS'+ '*'*50\n",
    "from sklearn.metrics import classification_report,confusion_matrix,accuracy_score\n",
    "print '*'*50 + 'classification_report'+ '*'*50\n",
    "print(classification_report(y_true, y_pred))\n",
    "print '*'*100\n",
    "print '*'*50 + 'confusion_matrix'+ '*'*50\n",
    "print '-'*100\n",
    "print confusion_matrix(y_true, y_pred)\n",
    "print '*'*100\n",
    "print '*'*50 + 'acccuracy Score'+ '*'*50\n",
    "print accuracy_score(y_true, y_pred)\n"
   ]
  },
  {
   "cell_type": "markdown",
   "metadata": {
    "collapsed": false
   },
   "source": [
    "## Applying PCA"
   ]
  },
  {
   "cell_type": "code",
   "execution_count": 11,
   "metadata": {
    "collapsed": false
   },
   "outputs": [
    {
     "name": "stdout",
     "output_type": "stream",
     "text": [
      "[ 13.13  22.1   26.62  30.02  33.1   35.9   38.36  40.65  42.79  44.89\n",
      "  46.74  48.53  50.27  51.96  53.6   55.19  56.76  58.32  59.79  61.25\n",
      "  62.7   64.13  65.56  66.98  68.38  69.76  71.12  72.47  73.81  75.13\n",
      "  76.43  77.69  78.94  80.16  81.33  82.47  83.53  84.58  85.59  86.58]\n"
     ]
    },
    {
     "data": {
      "text/plain": [
       "[<matplotlib.lines.Line2D at 0x1932f198>]"
      ]
     },
     "execution_count": 11,
     "metadata": {},
     "output_type": "execute_result"
    },
    {
     "data": {
      "image/png": "[encoded data removed]",
      "text/plain": [
       "<matplotlib.figure.Figure at 0xdf05c18>"
      ]
     },
     "metadata": {},
     "output_type": "display_data"
    }
   ],
   "source": [
    "from sklearn.decomposition import PCA\n",
    "from sklearn.preprocessing import scale\n",
    "\n",
    "#Scaling the values\n",
    "X = scale(X_train)\n",
    "\n",
    "\n",
    "pca = PCA(n_components=40)\n",
    "pca.fit(X)\n",
    "\n",
    "#The amount of variance that each PC explains\n",
    "var= pca.explained_variance_ratio_\n",
    "\n",
    "#Cumulative Variance explains\n",
    "var1=np.cumsum(np.round(pca.explained_variance_ratio_, decimals=4)*100)\n",
    "\n",
    "print var1\n",
    "\n",
    "plt.plot(var1)\n",
    "\n"
   ]
  },
  {
   "cell_type": "code",
   "execution_count": null,
   "metadata": {
    "collapsed": true
   },
   "outputs": [],
   "source": [
    "pca."
   ]
  },
  {
   "cell_type": "code",
   "execution_count": 12,
   "metadata": {
    "collapsed": false
   },
   "outputs": [
    {
     "name": "stdout",
     "output_type": "stream",
     "text": [
      "[[-2.60401903 -2.11001815  1.82121627 ..., -0.38061669 -0.48025709\n",
      "  -0.4497662 ]\n",
      " [ 3.29969831 -3.22707177  3.18248643 ..., -1.58531829  3.49152458\n",
      "  -0.7725086 ]\n",
      " [-0.8675456  -2.95158199 -1.29966741 ...,  1.84081625  2.33058855\n",
      "   0.81104952]\n",
      " ..., \n",
      " [ 2.21664014  4.01854979 -1.08888997 ...,  1.62718152 -0.39098247\n",
      "   1.94740606]\n",
      " [-0.92469129  4.86054335 -0.68119381 ...,  0.11800843  0.2839804\n",
      "  -0.44055948]\n",
      " [-1.11869802 -2.78703178 -2.35127564 ...,  0.95842868  0.81237627\n",
      "  -0.03627837]]\n"
     ]
    }
   ],
   "source": [
    "#Looking at above plot I'm taking 30 variables\n",
    "pca = PCA(n_components=34)\n",
    "pca.fit(X)\n",
    "X1=pca.fit_transform(X)\n",
    "\n",
    "print X1"
   ]
  },
  {
   "cell_type": "code",
   "execution_count": 14,
   "metadata": {
    "collapsed": false
   },
   "outputs": [
    {
     "data": {
      "text/plain": [
       "array([[-0.16337323, -0.38090235, -0.68963341, ...,  0.85816948,\n",
       "        -0.61725265, -0.2005935 ],\n",
       "       [ 1.19525815,  2.38543011,  0.43460608, ...,  0.85816948,\n",
       "        -0.61725265, -0.2005935 ],\n",
       "       [-0.49141254, -0.32329027, -0.05249353, ..., -1.165271  ,\n",
       "         2.03971475, -0.2005935 ],\n",
       "       ..., \n",
       "       [-0.18173617, -0.13140869, -0.26501517, ...,  0.85816948,\n",
       "        -0.61725265,  4.98520633],\n",
       "       [-0.64647742, -0.89084075, -0.69005846, ...,  0.85816948,\n",
       "        -0.61725265, -0.2005935 ],\n",
       "       [-0.16496015, -0.11902923,  0.5850714 , ..., -1.165271  ,\n",
       "         2.03971475, -0.2005935 ]])"
      ]
     },
     "execution_count": 14,
     "metadata": {},
     "output_type": "execute_result"
    }
   ],
   "source": [
    "X"
   ]
  }
 ],
 "metadata": {
  "kernelspec": {
   "display_name": "Python 2",
   "language": "python",
   "name": "python2"
  },
  "language_info": {
   "codemirror_mode": {
    "name": "ipython",
    "version": 2
   },
   "file_extension": ".py",
   "mimetype": "text/x-python",
   "name": "python",
   "nbconvert_exporter": "python",
   "pygments_lexer": "ipython2",
   "version": "2.7.12"
  }
 },
 "nbformat": 4,
 "nbformat_minor": 0
}
