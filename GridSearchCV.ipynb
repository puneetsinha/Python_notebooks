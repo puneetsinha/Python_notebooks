{
 "cells": [
  {
   "cell_type": "code",
   "execution_count": 2,
   "metadata": {
    "collapsed": true
   },
   "outputs": [],
   "source": [
    "from sklearn.grid_search import GridSearchCV\n",
    "from matplotlib.colors import ListedColormap\n",
    "from sklearn.cross_validation import train_test_split\n",
    "from sklearn.preprocessing import StandardScaler\n",
    "from sklearn.datasets import make_moons, make_circles, make_classification\n",
    "from sklearn.neighbors import KNeighborsClassifier\n",
    "from sklearn.svm import SVC\n",
    "from sklearn.tree import DecisionTreeClassifier\n",
    "from sklearn.ensemble import RandomForestClassifier, AdaBoostClassifier\n",
    "from sklearn.naive_bayes import GaussianNB\n",
    "from sklearn.discriminant_analysis import LinearDiscriminantAnalysis\n",
    "from sklearn.discriminant_analysis import QuadraticDiscriminantAnalysis\n",
    "import os\n",
    "import numpy as np\n",
    "import pandas as pd\n",
    "import matplotlib.pyplot as plt\n",
    "import seaborn as sns"
   ]
  },
  {
   "cell_type": "markdown",
   "metadata": {},
   "source": [
    "### Paste your dataset"
   ]
  },
  {
   "cell_type": "code",
   "execution_count": 3,
   "metadata": {
    "collapsed": false
   },
   "outputs": [
    {
     "name": "stderr",
     "output_type": "stream",
     "text": [
      "C:\\Users\\Lenovo\\Anaconda2\\lib\\site-packages\\ipykernel\\__main__.py:16: SettingWithCopyWarning: \n",
      "A value is trying to be set on a copy of a slice from a DataFrame\n",
      "\n",
      "See the caveats in the documentation: http://pandas.pydata.org/pandas-docs/stable/indexing.html#indexing-view-versus-copy\n",
      "C:\\Users\\Lenovo\\Anaconda2\\lib\\site-packages\\ipykernel\\__main__.py:22: SettingWithCopyWarning: \n",
      "A value is trying to be set on a copy of a slice from a DataFrame\n",
      "\n",
      "See the caveats in the documentation: http://pandas.pydata.org/pandas-docs/stable/indexing.html#indexing-view-versus-copy\n",
      "C:\\Users\\Lenovo\\Anaconda2\\lib\\site-packages\\ipykernel\\__main__.py:23: SettingWithCopyWarning: \n",
      "A value is trying to be set on a copy of a slice from a DataFrame\n",
      "\n",
      "See the caveats in the documentation: http://pandas.pydata.org/pandas-docs/stable/indexing.html#indexing-view-versus-copy\n"
     ]
    },
    {
     "name": "stdout",
     "output_type": "stream",
     "text": [
      "Populating the interactive namespace from numpy and matplotlib\n",
      "D:\\analytixlabs\\Complete_datasets\n",
      "(31152, 45)\n",
      "(7789, 45)\n",
      "(31152L,)\n",
      "(7789L,)\n"
     ]
    }
   ],
   "source": [
    "%pylab inline\n",
    "pd.options.display.max_columns=100\n",
    "pd.options.display.max_rows=15\n",
    "#importing Dataset\n",
    "\n",
    "os.chdir(\"D:\\\\analytixlabs\\\\Complete_datasets\")\n",
    "print os.getcwd() \n",
    "Telecom=pd.read_csv(\"Proactive Attrition Management-Logistic Regression Case Study.csv\")\n",
    "\n",
    "Val_Telecom=Telecom.loc[Telecom.CHURNDEP.isnull()]\n",
    "TT_Telecom=Telecom.loc[Telecom.CHURNDEP.isin([0,1])]\n",
    "\n",
    "#removing these 2 columns will give us the base model with any NAs['CALIBRAT' ,'CALLFWDV' ,'CALLWAIT',]\n",
    "from warnings import WarningMessage,filterwarnings\n",
    "#removing targrt leaks:\n",
    "TT_Telecom.drop(labels=['CHURN','RETCALL','RETCALLS','RETACCPT'],inplace=True,axis=1)\n",
    "#MAILORD is coliner with MAILRES,PHONES-Model,MOUREC-MOU,OWNRENT-CREDITCD,BLCKVCE\tDROPBLK,\n",
    "\n",
    "#removing Other colinear colums\n",
    "TT_Telecom.drop(labels=['CSA','CALIBRAT' ,'CALLFWDV' ,'CALLWAIT','MODELS','MOUREC','CUSTOMER',\n",
    "                        'BLCKVCE','DROPBLK','INCMISS','OWNRENT','OVERAGE','UNIQSUBS','AGE2','PEAKVCE','OPEAKVCE','REFURB','TRUCK'\n",
    "                        ,'RV','MARRYUN','MAILORD','PCOWN','NEWCELLN','MCYCLE','REVENUE','MAILFLAG','CHANGER','OUTCALLS'],inplace=True,axis=1)\n",
    "TT_Telecom.dropna(subset=['AGE1','CHANGEM'],inplace=True)\n",
    "\n",
    "#CSA cant be identified so we we will keep them as missing\n",
    "#TT_Telecom.CSA.fillna('Missing',inplace=True)\n",
    "\n",
    "X=TT_Telecom.ix[:,:-1]\n",
    "y=TT_Telecom.CHURNDEP\n",
    "#X_test=Val_Telecom.ix[:,:-1]\n",
    "#y_test=Val_Telecom.CHURNDEP\n",
    "\n",
    "from sklearn.cross_validation import train_test_split\n",
    "X_train,X_test,y_train, y_test=train_test_split(X,y,test_size=0.20,random_state=0)\n",
    "\n",
    "print X_train.shape\n",
    "print X_test.shape\n",
    "print y_train.shape\n",
    "print y_test.shape\n",
    "\n",
    "\n",
    "from sklearn.preprocessing import StandardScaler\n",
    "sc=StandardScaler()\n",
    "X_train = sc.fit_transform(X_train)\n",
    "X_test= sc.fit_transform(X_test)\n"
   ]
  },
  {
   "cell_type": "code",
   "execution_count": null,
   "metadata": {
    "collapsed": true
   },
   "outputs": [],
   "source": [
    "from sklearn.preprocessing import scale\n",
    "X = scale(X_train)\n",
    "Xt=scale(X_test)"
   ]
  },
  {
   "cell_type": "code",
   "execution_count": null,
   "metadata": {
    "collapsed": false
   },
   "outputs": [],
   "source": [
    "from sklearn.ensemble import ExtraTreesClassifier\n",
    "\n",
    "# Build a forest and compute the feature importances\n",
    "forest = ExtraTreesClassifier(n_estimators=250,\n",
    "                              random_state=0)\n",
    "\n",
    "forest.fit(X, y_train)\n",
    "importances = forest.feature_importances_\n",
    "std = np.std([tree.feature_importances_ for tree in forest.estimators_],\n",
    "             axis=0)\n",
    "indices = np.argsort(importances)[::-1]\n",
    "\n",
    "# Print the feature ranking\n",
    "print(\"Feature ranking:\")\n",
    "\n",
    "for f in range(X.shape[1]):\n",
    "    print(\"%d. feature %d (%f)\" % (f + 1, indices[f], importances[indices[f]]));\n"
   ]
  },
  {
   "cell_type": "code",
   "execution_count": null,
   "metadata": {
    "collapsed": true
   },
   "outputs": [],
   "source": [
    "# Plot the feature importances of the forest\n",
    "plt.figure(figsize=(20,10))\n",
    "plt.title(\"Feature importances\")\n",
    "plt.bar(range(X.shape[1]), importances[indices],\n",
    "       color=\"r\", yerr=std[indices], align=\"center\")\n",
    "plt.xticks(range(X.shape[1]), indices)\n",
    "plt.xlim([-1, X.shape[1]])\n",
    "\n",
    "plt.show()"
   ]
  },
  {
   "cell_type": "code",
   "execution_count": 8,
   "metadata": {
    "collapsed": true
   },
   "outputs": [],
   "source": [
    "names=X_train.columns.tolist()\n",
    "print sorted(zip(map(lambda x: round(x, 4), forest.feature_importances_), names), \n",
    "             reverse=True)\n",
    "print '---------------------------'\n",
    "sorted(zip(map(lambda x: round(x, 4), tree.feature_importances_), names), \n",
    "             reverse=True)"
   ]
  },
  {
   "cell_type": "markdown",
   "metadata": {
    "collapsed": false
   },
   "source": [
    "### ADABOOST"
   ]
  },
  {
   "cell_type": "code",
   "execution_count": 3,
   "metadata": {
    "collapsed": false
   },
   "outputs": [
    {
     "name": "stdout",
     "output_type": "stream",
     "text": [
      "Optimal number of features : 13\n"
     ]
    },
    {
     "data": {
      "image/png": "[encoded data removed]",
      "text/plain": [
       "<matplotlib.figure.Figure at 0x7a72c50>"
      ]
     },
     "metadata": {},
     "output_type": "display_data"
    }
   ],
   "source": [
    "from sklearn.cross_validation import StratifiedKFold\n",
    "from sklearn.feature_selection import RFECV\n",
    "from sklearn.ensemble import RandomForestClassifier, AdaBoostClassifier\n",
    "\n",
    "# Create the RFE object and compute a cross-validated score.\n",
    "adb = AdaBoostClassifier()\n",
    "# The \"accuracy\" scoring is proportional to the number of correct\n",
    "# classifications\n",
    "rfecv = RFECV(estimator=adb, step=1, cv=StratifiedKFold(y_train, 2),\n",
    "              scoring='accuracy')\n",
    "rfecv.fit(X_train, y_train)\n",
    "\n",
    "print(\"Optimal number of features : %d\" % rfecv.n_features_)\n",
    "\n",
    "# Plot number of features VS. cross-validation scores\n",
    "plt.figure()\n",
    "plt.xlabel(\"Number of features selected\")\n",
    "plt.ylabel(\"Cross validation score (nb of correct classifications)\")\n",
    "plt.plot(range(1, len(rfecv.grid_scores_) + 1), rfecv.grid_scores_)\n",
    "plt.show()"
   ]
  },
  {
   "cell_type": "markdown",
   "metadata": {},
   "source": [
    "BEFORE YOU RUN BELOW PLEASE DEFINE X and Y .. MAKE SURE YOU HAVE DONE ALL FEATURE ENGINREENG and just choosing hyperparameters"
   ]
  },
  {
   "cell_type": "markdown",
   "metadata": {},
   "source": [
    "# KNN"
   ]
  },
  {
   "cell_type": "code",
   "execution_count": 14,
   "metadata": {
    "collapsed": false
   },
   "outputs": [
    {
     "data": {
      "text/plain": [
       "GridSearchCV(cv=5, error_score='raise',\n",
       "       estimator=KNeighborsClassifier(algorithm='auto', leaf_size=30, metric='minkowski',\n",
       "           metric_params=None, n_jobs=1, n_neighbors=5, p=2,\n",
       "           weights='uniform'),\n",
       "       fit_params={}, iid=True, n_jobs=4,\n",
       "       param_grid={'n_neighbors': [2, 4, 5], 'p': [2, 3]},\n",
       "       pre_dispatch='2*n_jobs', refit=True, scoring='roc_auc', verbose=0)"
      ]
     },
     "execution_count": 14,
     "metadata": {},
     "output_type": "execute_result"
    }
   ],
   "source": [
    "knn=KNeighborsClassifier()\n",
    "params = {\n",
    "    'n_neighbors': [2, 4, 5],\n",
    "    'p': [2,3],\n",
    "    \n",
    "}\n",
    "knngs = GridSearchCV(knn, params, cv=5, scoring='roc_auc', n_jobs=4)\n",
    "knngs.fit(X, y_train)\n",
    "\n",
    "print knngs.best_params_\n",
    "print knngs.best_estimator_\n",
    "print knngs.best_score_\n",
    "print knngs.error_score\n",
    "print knngs.grid_scores_\n"
   ]
  },
  {
   "cell_type": "code",
   "execution_count": 15,
   "metadata": {
    "collapsed": false
   },
   "outputs": [
    {
     "name": "stdout",
     "output_type": "stream",
     "text": [
      "{'n_neighbors': 5, 'p': 2}\n",
      "KNeighborsClassifier(algorithm='auto', leaf_size=30, metric='minkowski',\n",
      "           metric_params=None, n_jobs=1, n_neighbors=5, p=2,\n",
      "           weights='uniform')\n",
      "0.540255631567\n",
      "raise\n",
      "[mean: 0.52822, std: 0.00440, params: {'n_neighbors': 2, 'p': 2}, mean: 0.52620, std: 0.00335, params: {'n_neighbors': 2, 'p': 3}, mean: 0.53789, std: 0.00811, params: {'n_neighbors': 4, 'p': 2}, mean: 0.53500, std: 0.00636, params: {'n_neighbors': 4, 'p': 3}, mean: 0.54026, std: 0.01022, params: {'n_neighbors': 5, 'p': 2}, mean: 0.53704, std: 0.00756, params: {'n_neighbors': 5, 'p': 3}]\n",
      "<function predict_proba at 0x0000000010CADEB8>\n"
     ]
    }
   ],
   "source": [
    "print knngs.best_params_\n",
    "print knngs.best_estimator_\n",
    "print knngs.best_score_\n",
    "print knngs.error_score\n",
    "print knngs.grid_scores_\n"
   ]
  },
  {
   "cell_type": "markdown",
   "metadata": {},
   "source": [
    "## LOGESTIC"
   ]
  },
  {
   "cell_type": "code",
   "execution_count": null,
   "metadata": {
    "collapsed": true
   },
   "outputs": [],
   "source": [
    "print \"Checking Best features with Logestic Regression\"\n",
    "logreg_params={'penalty':['L1','l2'],\n",
    "               'C': [0.001,0.01,0.1,1,10,100]}\n",
    "\n",
    "grid_log=GridSearchCV(LogisticRegression(),\n",
    "                     logreg_params,\n",
    "                     cv=10,\n",
    "                     n_jobs=-1).fit(X_Scaled,y)\n",
    "print grid_log.best_params_\n",
    "print grid_log.best_estimator_\n",
    "print grid_log.best_score_\n",
    "print grid_log.error_score\n",
    "print grid_log.grid_scores_"
   ]
  },
  {
   "cell_type": "code",
   "execution_count": 4,
   "metadata": {
    "collapsed": true
   },
   "outputs": [],
   "source": []
  },
  {
   "cell_type": "code",
   "execution_count": 6,
   "metadata": {
    "collapsed": false
   },
   "outputs": [
    {
     "data": {
      "text/plain": [
       "GridSearchCV(cv=10, error_score='raise',\n",
       "       estimator=SVC(C=1.0, cache_size=200, class_weight=None, coef0=0.0,\n",
       "  decision_function_shape=None, degree=3, gamma='auto', kernel='poly',\n",
       "  max_iter=-1, probability=False, random_state=None, shrinking=True,\n",
       "  tol=0.001, verbose=False),\n",
       "       fit_params={}, iid=True, n_jobs=10,\n",
       "       param_grid={'C': [0.01, 0.1, 1], 'degree': [3, 4, 6, 8]},\n",
       "       pre_dispatch='2*n_jobs', refit=True, scoring='roc_auc', verbose=0)"
      ]
     },
     "execution_count": 6,
     "metadata": {},
     "output_type": "execute_result"
    }
   ],
   "source": [
    "from sklearn.grid_search import GridSearchCV\n",
    "from sklearn.svm import SVC\n",
    "\n",
    "svm = SVC(kernel='poly')\n",
    "\n",
    "params = {\n",
    "    'C': [0.01, 0.1, 1],\n",
    "    'degree': [3, 4,6,8],\n",
    "    \n",
    "}\n",
    "\n",
    "gs = GridSearchCV(svm, params, cv=10, scoring='roc_auc', n_jobs=10)\n",
    "gs.fit(X_train, y_train)\n",
    "\n",
    "\n",
    "\n"
   ]
  },
  {
   "cell_type": "code",
   "execution_count": null,
   "metadata": {
    "collapsed": true
   },
   "outputs": [],
   "source": [
    "gs."
   ]
  },
  {
   "cell_type": "code",
   "execution_count": 9,
   "metadata": {
    "collapsed": false
   },
   "outputs": [
    {
     "name": "stdout",
     "output_type": "stream",
     "text": [
      "{'C': 0.1, 'degree': 3}\n",
      "SVC(C=0.1, cache_size=200, class_weight=None, coef0=0.0,\n",
      "  decision_function_shape=None, degree=3, gamma='auto', kernel='poly',\n",
      "  max_iter=-1, probability=False, random_state=None, shrinking=True,\n",
      "  tol=0.001, verbose=False)\n",
      "0.585156401149\n",
      "raise\n",
      "[mean: 0.57541, std: 0.00900, params: {'C': 0.01, 'degree': 3}, mean: 0.56898, std: 0.00921, params: {'C': 0.01, 'degree': 4}, mean: 0.56671, std: 0.01208, params: {'C': 0.01, 'degree': 6}, mean: 0.56074, std: 0.01085, params: {'C': 0.01, 'degree': 8}, mean: 0.58516, std: 0.01062, params: {'C': 0.1, 'degree': 3}, mean: 0.57611, std: 0.01089, params: {'C': 0.1, 'degree': 4}, mean: 0.56868, std: 0.01027, params: {'C': 0.1, 'degree': 6}, mean: 0.56307, std: 0.01174, params: {'C': 0.1, 'degree': 8}, mean: 0.58242, std: 0.01190, params: {'C': 1, 'degree': 3}, mean: 0.57425, std: 0.01249, params: {'C': 1, 'degree': 4}, mean: 0.56447, std: 0.01180, params: {'C': 1, 'degree': 6}, mean: 0.55730, std: 0.01164, params: {'C': 1, 'degree': 8}]\n"
     ]
    }
   ],
   "source": [
    "y_true, y_pred = y_test, gs.predict(X_test)\n",
    "\n",
    "print gs.best_params_\n",
    "print gs.best_estimator_\n",
    "print gs.best_score_\n",
    "print gs.error_score\n",
    "print gs.grid_scores_"
   ]
  },
  {
   "cell_type": "markdown",
   "metadata": {
    "collapsed": true
   },
   "source": [
    "## Neural network"
   ]
  },
  {
   "cell_type": "code",
   "execution_count": 8,
   "metadata": {
    "collapsed": false
   },
   "outputs": [
    {
     "data": {
      "text/plain": [
       "'0.17'"
      ]
     },
     "execution_count": 8,
     "metadata": {},
     "output_type": "execute_result"
    }
   ],
   "source": [
    "import sklearn \n",
    "sklearn.__version__"
   ]
  },
  {
   "cell_type": "code",
   "execution_count": null,
   "metadata": {
    "collapsed": true
   },
   "outputs": [],
   "source": [
    "from sklearn.neural_network import MLPClassifier\n",
    "\n",
    "MLPClassifier = MLPClassifier(kernel='poly')\n",
    "\n",
    "params = {\n",
    "    'C': [0.01, 0.1, 1],\n",
    "    'degree': [3, 4,6,8],\n",
    "    \n",
    "}\n",
    "\n",
    "gs = GridSearchCV(svm, params, cv=10, scoring='roc_auc', n_jobs=10)\n",
    "gs.fit(X_train, y_train)\n"
   ]
  },
  {
   "cell_type": "markdown",
   "metadata": {
    "collapsed": true
   },
   "source": [
    "### CLustering\n",
    "\n"
   ]
  },
  {
   "cell_type": "markdown",
   "metadata": {},
   "source": [
    "from sklearn.cluster import KMeans,DBSCAN"
   ]
  },
  {
   "cell_type": "markdown",
   "metadata": {},
   "source": [
    "kmeans = KMeans(n_clusters=2, random_state=42)\n",
    "\n",
    "labels=kmeans.fit(X_train)\n",
    "labels"
   ]
  },
  {
   "cell_type": "code",
   "execution_count": 15,
   "metadata": {
    "collapsed": false
   },
   "outputs": [
    {
     "data": {
      "text/plain": [
       "(31152L,)"
      ]
     },
     "execution_count": 15,
     "metadata": {},
     "output_type": "execute_result"
    }
   ],
   "source": [
    "CLUS_T=X_train.copy()\n",
    "labels.labels_.shape"
   ]
  },
  {
   "cell_type": "code",
   "execution_count": null,
   "metadata": {
    "collapsed": true
   },
   "outputs": [],
   "source": [
    "dbs=DBSCAN()\n",
    "dbs.fit(X_train)\n",
    "plt.scatter(X_train[:, 0], X_train[:, 1], c=labels, cmap='Spectral');"
   ]
  },
  {
   "cell_type": "code",
   "execution_count": 30,
   "metadata": {
    "collapsed": false
   },
   "outputs": [
    {
     "name": "stderr",
     "output_type": "stream",
     "text": [
      "C:\\Users\\Lenovo\\Anaconda2\\lib\\site-packages\\ipykernel\\__main__.py:2: VisibleDeprecationWarning: using a non-integer number instead of an integer will result in an error in the future\n",
      "  from ipykernel import kernelapp as app\n"
     ]
    },
    {
     "ename": "IndexError",
     "evalue": "only integers, slices (`:`), ellipsis (`...`), numpy.newaxis (`None`) and integer or boolean arrays are valid indices",
     "output_type": "error",
     "traceback": [
      "\u001b[1;31m---------------------------------------------------------------------------\u001b[0m",
      "\u001b[1;31mIndexError\u001b[0m                                Traceback (most recent call last)",
      "\u001b[1;32m<ipython-input-30-7221d2ee685c>\u001b[0m in \u001b[0;36m<module>\u001b[1;34m()\u001b[0m\n\u001b[0;32m      1\u001b[0m \u001b[0mCLUSTERED\u001b[0m\u001b[1;33m=\u001b[0m\u001b[0mX_train\u001b[0m\u001b[1;33m\u001b[0m\u001b[0m\n\u001b[1;32m----> 2\u001b[1;33m \u001b[0mCLUSTERED\u001b[0m\u001b[1;33m[\u001b[0m\u001b[1;34m'cluster'\u001b[0m\u001b[1;33m]\u001b[0m\u001b[1;33m=\u001b[0m\u001b[0mlist\u001b[0m\u001b[1;33m(\u001b[0m\u001b[0mlabels\u001b[0m\u001b[1;33m.\u001b[0m\u001b[0mlabels_\u001b[0m\u001b[1;33m)\u001b[0m\u001b[1;33m\u001b[0m\u001b[0m\n\u001b[0m\u001b[0;32m      3\u001b[0m \u001b[0mCLUSTERED\u001b[0m\u001b[1;33m.\u001b[0m\u001b[0mhead\u001b[0m\u001b[1;33m(\u001b[0m\u001b[1;33m)\u001b[0m\u001b[1;33m\u001b[0m\u001b[0m\n",
      "\u001b[1;31mIndexError\u001b[0m: only integers, slices (`:`), ellipsis (`...`), numpy.newaxis (`None`) and integer or boolean arrays are valid indices"
     ]
    }
   ],
   "source": [
    "CLUSTERED=X_train\n",
    "CLUSTERED['cluster']=list(labels.labels_)\n",
    "CLUSTERED.head()"
   ]
  },
  {
   "cell_type": "code",
   "execution_count": 31,
   "metadata": {
    "collapsed": false
   },
   "outputs": [
    {
     "ename": "AttributeError",
     "evalue": "'numpy.ndarray' object has no attribute 'head'",
     "output_type": "error",
     "traceback": [
      "\u001b[1;31m---------------------------------------------------------------------------\u001b[0m",
      "\u001b[1;31mAttributeError\u001b[0m                            Traceback (most recent call last)",
      "\u001b[1;32m<ipython-input-31-7e8baea2d63e>\u001b[0m in \u001b[0;36m<module>\u001b[1;34m()\u001b[0m\n\u001b[1;32m----> 1\u001b[1;33m \u001b[0mCLUSTERED\u001b[0m\u001b[1;33m.\u001b[0m\u001b[0mhead\u001b[0m\u001b[1;33m(\u001b[0m\u001b[1;33m)\u001b[0m\u001b[1;33m\u001b[0m\u001b[0m\n\u001b[0m",
      "\u001b[1;31mAttributeError\u001b[0m: 'numpy.ndarray' object has no attribute 'head'"
     ]
    }
   ],
   "source": [
    "CLUSTERED.head()"
   ]
  },
  {
   "cell_type": "code",
   "execution_count": null,
   "metadata": {
    "collapsed": true
   },
   "outputs": [],
   "source": []
  }
 ],
 "metadata": {
  "kernelspec": {
   "display_name": "Python 2",
   "language": "python",
   "name": "python2"
  },
  "language_info": {
   "codemirror_mode": {
    "name": "ipython",
    "version": 2
   },
   "file_extension": ".py",
   "mimetype": "text/x-python",
   "name": "python",
   "nbconvert_exporter": "python",
   "pygments_lexer": "ipython2",
   "version": "2.7.12"
  }
 },
 "nbformat": 4,
 "nbformat_minor": 0
}
