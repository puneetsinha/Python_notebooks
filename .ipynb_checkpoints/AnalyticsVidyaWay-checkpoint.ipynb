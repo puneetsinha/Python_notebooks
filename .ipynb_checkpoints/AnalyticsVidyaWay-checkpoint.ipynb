{
 "cells": [
  {
   "cell_type": "code",
   "execution_count": 1,
   "metadata": {
    "collapsed": false
   },
   "outputs": [
    {
     "name": "stdout",
     "output_type": "stream",
     "text": [
      "Populating the interactive namespace from numpy and matplotlib\n",
      "D:\\analytixlabs\\Complete_datasets\n"
     ]
    }
   ],
   "source": [
    "### importing Intial libraries\n",
    "import os\n",
    "import numpy as np\n",
    "import pandas as pd\n",
    "import matplotlib.pyplot as plt\n",
    "import seaborn as sns\n",
    "from matplotlib.pylab import rcParams\n",
    "rcParams['figure.figsize'] = 20, 10\n",
    "import xgboost as xgb\n",
    "\n",
    "%pylab inline\n",
    "pd.options.display.max_columns=100\n",
    "pd.options.display.max_rows=15\n",
    "\n",
    "os.chdir(\"D:\\\\analytixlabs\\\\Complete_datasets\")\n",
    "print os.getcwd() \n",
    "Telecom=pd.read_csv(\"Proactive Attrition Management-Logistic Regression Case Study.csv\")\n",
    "#Telecom.head()"
   ]
  },
  {
   "cell_type": "markdown",
   "metadata": {},
   "source": [
    "# 1. Steps of Data Exploration and Preparation\n",
    "\n",
    "Remember the quality of your inputs decide the quality of your output. So, once you have got your business hypothesis ready, it makes sense to spend lot of time and efforts here. With my personal estimate, data exploration, cleaning and preparation can take up to 70% of your total project time.\n",
    "\n",
    "Below are the steps involved to understand, clean and prepare your data for building your predictive model:"
   ]
  },
  {
   "cell_type": "markdown",
   "metadata": {},
   "source": [
    "### Variable Identification"
   ]
  },
  {
   "cell_type": "code",
   "execution_count": 3,
   "metadata": {
    "collapsed": false
   },
   "outputs": [
    {
     "data": {
      "text/html": [
       "<div>\n",
       "<table border=\"1\" class=\"dataframe\">\n",
       "  <thead>\n",
       "    <tr style=\"text-align: right;\">\n",
       "      <th></th>\n",
       "      <th>0</th>\n",
       "      <th>1</th>\n",
       "      <th>2</th>\n",
       "      <th>3</th>\n",
       "      <th>4</th>\n",
       "      <th>5</th>\n",
       "      <th>6</th>\n",
       "      <th>7</th>\n",
       "      <th>8</th>\n",
       "      <th>9</th>\n",
       "      <th>10</th>\n",
       "      <th>11</th>\n",
       "      <th>12</th>\n",
       "      <th>13</th>\n",
       "      <th>14</th>\n",
       "      <th>15</th>\n",
       "      <th>16</th>\n",
       "      <th>17</th>\n",
       "      <th>18</th>\n",
       "      <th>19</th>\n",
       "      <th>20</th>\n",
       "      <th>21</th>\n",
       "      <th>22</th>\n",
       "      <th>23</th>\n",
       "      <th>24</th>\n",
       "      <th>25</th>\n",
       "      <th>26</th>\n",
       "      <th>27</th>\n",
       "      <th>28</th>\n",
       "      <th>29</th>\n",
       "      <th>30</th>\n",
       "      <th>31</th>\n",
       "      <th>32</th>\n",
       "      <th>33</th>\n",
       "      <th>34</th>\n",
       "      <th>35</th>\n",
       "      <th>36</th>\n",
       "      <th>37</th>\n",
       "      <th>38</th>\n",
       "      <th>39</th>\n",
       "      <th>40</th>\n",
       "      <th>41</th>\n",
       "      <th>42</th>\n",
       "      <th>43</th>\n",
       "      <th>44</th>\n",
       "      <th>45</th>\n",
       "      <th>46</th>\n",
       "      <th>47</th>\n",
       "      <th>48</th>\n",
       "      <th>49</th>\n",
       "      <th>50</th>\n",
       "      <th>51</th>\n",
       "      <th>52</th>\n",
       "      <th>53</th>\n",
       "      <th>54</th>\n",
       "      <th>55</th>\n",
       "      <th>56</th>\n",
       "      <th>57</th>\n",
       "      <th>58</th>\n",
       "      <th>59</th>\n",
       "      <th>60</th>\n",
       "      <th>61</th>\n",
       "      <th>62</th>\n",
       "      <th>63</th>\n",
       "      <th>64</th>\n",
       "      <th>65</th>\n",
       "      <th>66</th>\n",
       "      <th>67</th>\n",
       "      <th>68</th>\n",
       "      <th>69</th>\n",
       "      <th>70</th>\n",
       "      <th>71</th>\n",
       "      <th>72</th>\n",
       "      <th>73</th>\n",
       "      <th>74</th>\n",
       "      <th>75</th>\n",
       "      <th>76</th>\n",
       "      <th>77</th>\n",
       "    </tr>\n",
       "  </thead>\n",
       "  <tbody>\n",
       "    <tr>\n",
       "      <th>col_name</th>\n",
       "      <td>REVENUE</td>\n",
       "      <td>MOU</td>\n",
       "      <td>RECCHRGE</td>\n",
       "      <td>DIRECTAS</td>\n",
       "      <td>OVERAGE</td>\n",
       "      <td>ROAM</td>\n",
       "      <td>CHANGEM</td>\n",
       "      <td>CHANGER</td>\n",
       "      <td>DROPVCE</td>\n",
       "      <td>BLCKVCE</td>\n",
       "      <td>UNANSVCE</td>\n",
       "      <td>CUSTCARE</td>\n",
       "      <td>THREEWAY</td>\n",
       "      <td>MOUREC</td>\n",
       "      <td>OUTCALLS</td>\n",
       "      <td>INCALLS</td>\n",
       "      <td>PEAKVCE</td>\n",
       "      <td>OPEAKVCE</td>\n",
       "      <td>DROPBLK</td>\n",
       "      <td>CALLFWDV</td>\n",
       "      <td>CALLWAIT</td>\n",
       "      <td>CHURN</td>\n",
       "      <td>MONTHS</td>\n",
       "      <td>UNIQSUBS</td>\n",
       "      <td>ACTVSUBS</td>\n",
       "      <td>CSA</td>\n",
       "      <td>PHONES</td>\n",
       "      <td>MODELS</td>\n",
       "      <td>EQPDAYS</td>\n",
       "      <td>CUSTOMER</td>\n",
       "      <td>AGE1</td>\n",
       "      <td>AGE2</td>\n",
       "      <td>CHILDREN</td>\n",
       "      <td>CREDITA</td>\n",
       "      <td>CREDITAA</td>\n",
       "      <td>CREDITB</td>\n",
       "      <td>CREDITC</td>\n",
       "      <td>CREDITDE</td>\n",
       "      <td>CREDITGY</td>\n",
       "      <td>CREDITZ</td>\n",
       "      <td>PRIZMRUR</td>\n",
       "      <td>PRIZMUB</td>\n",
       "      <td>PRIZMTWN</td>\n",
       "      <td>REFURB</td>\n",
       "      <td>WEBCAP</td>\n",
       "      <td>TRUCK</td>\n",
       "      <td>RV</td>\n",
       "      <td>OCCPROF</td>\n",
       "      <td>OCCCLER</td>\n",
       "      <td>OCCCRFT</td>\n",
       "      <td>OCCSTUD</td>\n",
       "      <td>OCCHMKR</td>\n",
       "      <td>OCCRET</td>\n",
       "      <td>OCCSELF</td>\n",
       "      <td>OWNRENT</td>\n",
       "      <td>MARRYUN</td>\n",
       "      <td>MARRYYES</td>\n",
       "      <td>MARRYNO</td>\n",
       "      <td>MAILORD</td>\n",
       "      <td>MAILRES</td>\n",
       "      <td>MAILFLAG</td>\n",
       "      <td>TRAVEL</td>\n",
       "      <td>PCOWN</td>\n",
       "      <td>CREDITCD</td>\n",
       "      <td>RETCALLS</td>\n",
       "      <td>RETACCPT</td>\n",
       "      <td>NEWCELLY</td>\n",
       "      <td>NEWCELLN</td>\n",
       "      <td>REFER</td>\n",
       "      <td>INCMISS</td>\n",
       "      <td>INCOME</td>\n",
       "      <td>MCYCLE</td>\n",
       "      <td>CREDITAD</td>\n",
       "      <td>SETPRCM</td>\n",
       "      <td>SETPRC</td>\n",
       "      <td>RETCALL</td>\n",
       "      <td>CALIBRAT</td>\n",
       "      <td>CHURNDEP</td>\n",
       "    </tr>\n",
       "    <tr>\n",
       "      <th>dtype</th>\n",
       "      <td>float64</td>\n",
       "      <td>float64</td>\n",
       "      <td>float64</td>\n",
       "      <td>float64</td>\n",
       "      <td>float64</td>\n",
       "      <td>float64</td>\n",
       "      <td>float64</td>\n",
       "      <td>float64</td>\n",
       "      <td>float64</td>\n",
       "      <td>float64</td>\n",
       "      <td>float64</td>\n",
       "      <td>float64</td>\n",
       "      <td>float64</td>\n",
       "      <td>float64</td>\n",
       "      <td>float64</td>\n",
       "      <td>float64</td>\n",
       "      <td>float64</td>\n",
       "      <td>float64</td>\n",
       "      <td>float64</td>\n",
       "      <td>float64</td>\n",
       "      <td>float64</td>\n",
       "      <td>int64</td>\n",
       "      <td>int64</td>\n",
       "      <td>int64</td>\n",
       "      <td>int64</td>\n",
       "      <td>object</td>\n",
       "      <td>float64</td>\n",
       "      <td>float64</td>\n",
       "      <td>float64</td>\n",
       "      <td>int64</td>\n",
       "      <td>float64</td>\n",
       "      <td>float64</td>\n",
       "      <td>int64</td>\n",
       "      <td>int64</td>\n",
       "      <td>int64</td>\n",
       "      <td>int64</td>\n",
       "      <td>int64</td>\n",
       "      <td>int64</td>\n",
       "      <td>int64</td>\n",
       "      <td>int64</td>\n",
       "      <td>int64</td>\n",
       "      <td>int64</td>\n",
       "      <td>int64</td>\n",
       "      <td>int64</td>\n",
       "      <td>int64</td>\n",
       "      <td>int64</td>\n",
       "      <td>int64</td>\n",
       "      <td>int64</td>\n",
       "      <td>int64</td>\n",
       "      <td>int64</td>\n",
       "      <td>int64</td>\n",
       "      <td>int64</td>\n",
       "      <td>int64</td>\n",
       "      <td>int64</td>\n",
       "      <td>int64</td>\n",
       "      <td>int64</td>\n",
       "      <td>int64</td>\n",
       "      <td>int64</td>\n",
       "      <td>int64</td>\n",
       "      <td>int64</td>\n",
       "      <td>int64</td>\n",
       "      <td>int64</td>\n",
       "      <td>int64</td>\n",
       "      <td>int64</td>\n",
       "      <td>int64</td>\n",
       "      <td>int64</td>\n",
       "      <td>int64</td>\n",
       "      <td>int64</td>\n",
       "      <td>int64</td>\n",
       "      <td>int64</td>\n",
       "      <td>int64</td>\n",
       "      <td>int64</td>\n",
       "      <td>int64</td>\n",
       "      <td>int64</td>\n",
       "      <td>float64</td>\n",
       "      <td>int64</td>\n",
       "      <td>int64</td>\n",
       "      <td>float64</td>\n",
       "    </tr>\n",
       "  </tbody>\n",
       "</table>\n",
       "</div>"
      ],
      "text/plain": [
       "               0        1         2         3        4        5        6   \\\n",
       "col_name  REVENUE      MOU  RECCHRGE  DIRECTAS  OVERAGE     ROAM  CHANGEM   \n",
       "dtype     float64  float64   float64   float64  float64  float64  float64   \n",
       "\n",
       "               7        8        9         10        11        12       13  \\\n",
       "col_name  CHANGER  DROPVCE  BLCKVCE  UNANSVCE  CUSTCARE  THREEWAY   MOUREC   \n",
       "dtype     float64  float64  float64   float64   float64   float64  float64   \n",
       "\n",
       "                14       15       16        17       18        19        20  \\\n",
       "col_name  OUTCALLS  INCALLS  PEAKVCE  OPEAKVCE  DROPBLK  CALLFWDV  CALLWAIT   \n",
       "dtype      float64  float64  float64   float64  float64   float64   float64   \n",
       "\n",
       "             21      22        23        24      25       26       27  \\\n",
       "col_name  CHURN  MONTHS  UNIQSUBS  ACTVSUBS     CSA   PHONES   MODELS   \n",
       "dtype     int64   int64     int64     int64  object  float64  float64   \n",
       "\n",
       "               28        29       30       31        32       33        34  \\\n",
       "col_name  EQPDAYS  CUSTOMER     AGE1     AGE2  CHILDREN  CREDITA  CREDITAA   \n",
       "dtype     float64     int64  float64  float64     int64    int64     int64   \n",
       "\n",
       "               35       36        37        38       39        40       41  \\\n",
       "col_name  CREDITB  CREDITC  CREDITDE  CREDITGY  CREDITZ  PRIZMRUR  PRIZMUB   \n",
       "dtype       int64    int64     int64     int64    int64     int64    int64   \n",
       "\n",
       "                42      43      44     45     46       47       48       49  \\\n",
       "col_name  PRIZMTWN  REFURB  WEBCAP  TRUCK     RV  OCCPROF  OCCCLER  OCCCRFT   \n",
       "dtype        int64   int64   int64  int64  int64    int64    int64    int64   \n",
       "\n",
       "               50       51      52       53       54       55        56  \\\n",
       "col_name  OCCSTUD  OCCHMKR  OCCRET  OCCSELF  OWNRENT  MARRYUN  MARRYYES   \n",
       "dtype       int64    int64   int64    int64    int64    int64     int64   \n",
       "\n",
       "               57       58       59        60      61     62        63  \\\n",
       "col_name  MARRYNO  MAILORD  MAILRES  MAILFLAG  TRAVEL  PCOWN  CREDITCD   \n",
       "dtype       int64    int64    int64     int64   int64  int64     int64   \n",
       "\n",
       "                64        65        66        67     68       69      70  \\\n",
       "col_name  RETCALLS  RETACCPT  NEWCELLY  NEWCELLN  REFER  INCMISS  INCOME   \n",
       "dtype        int64     int64     int64     int64  int64    int64   int64   \n",
       "\n",
       "              71        72       73       74       75        76        77  \n",
       "col_name  MCYCLE  CREDITAD  SETPRCM   SETPRC  RETCALL  CALIBRAT  CHURNDEP  \n",
       "dtype      int64     int64    int64  float64    int64     int64   float64  "
      ]
     },
     "execution_count": 3,
     "metadata": {},
     "output_type": "execute_result"
    }
   ],
   "source": [
    "pd.DataFrame(zip(Telecom.columns,Telecom.dtypes) ,columns=['col_name','dtype']).T"
   ]
  },
  {
   "cell_type": "markdown",
   "metadata": {
    "collapsed": true
   },
   "source": [
    "### Univariate Analysis"
   ]
  },
  {
   "cell_type": "markdown",
   "metadata": {},
   "source": [
    "At this stage, we explore variables one by one. Method to perform uni-variate analysis will depend on whether the variable\n",
    "type is categorical or continuous. Let’s look at these methods and statistical measures for categorical and continuous variables individually:\n",
    "\n",
    "**Continuous Variables** :- In case of continuous variables, we need to understand the central tendency and spread of the variable.\n",
    "    These are measured using various statistical metrics visualization methods as shown below:"
   ]
  },
  {
   "cell_type": "code",
   "execution_count": null,
   "metadata": {
    "collapsed": true
   },
   "outputs": [],
   "source": [
    "#boxplot\n",
    "\n",
    "#histogram\n"
   ]
  },
  {
   "cell_type": "markdown",
   "metadata": {},
   "source": [
    "**Categorical Variables** :- For categorical variables, we’ll use frequency table to understand distribution of each category.\n",
    "    We can also read as percentage of values under each category. It can be be measured using two metrics,\n",
    "    Count and Count% against each category. Bar chart can be used as visualization."
   ]
  },
  {
   "cell_type": "code",
   "execution_count": null,
   "metadata": {
    "collapsed": true
   },
   "outputs": [],
   "source": []
  },
  {
   "cell_type": "markdown",
   "metadata": {},
   "source": [
    "### Bi-variate Analysis"
   ]
  },
  {
   "cell_type": "markdown",
   "metadata": {},
   "source": [
    "Bi-variate Analysis finds out the relationship between two variables. Here, we look for association and disassociation between variables at a pre-defined significance level. We can perform bi-variate analysis for any combination of categorical and continuous variables. The combination can be: Categorical & Categorical, Categorical & Continuous and Continuous & Continuous. Different methods are used to tackle these combinations during analysis process."
   ]
  },
  {
   "cell_type": "markdown",
   "metadata": {},
   "source": [
    "**Continuous & Continuous** : While doing bi-variate analysis between two continuous variables, we should look at scatter plot.\n",
    "    It is a nifty way to find out the relationship between two variables. The pattern of scatter plot indicates the relationship\n",
    "    between variables. The relationship can be linear or non-linear.\n",
    "    **Correlation = Covariance(X,Y) / SQRT( Var(X)* Var(Y))**"
   ]
  },
  {
   "cell_type": "markdown",
   "metadata": {},
   "source": [
    "**Categorical & Categorical** : To find the relationship between two categorical variables, we can use following methods:\n",
    "\n",
    "- Two-way table: We can start analyzing the relationship by creating a two-way table of count and count%. \n",
    "    The rows represents the category of one variable and the columns represent the categories of the other variable.\n",
    "    We show count or count% of observations available in each combination of row and column categories.\n",
    "- Stacked Column Chart: This method is more of a visual form of Two-way table."
   ]
  },
  {
   "cell_type": "code",
   "execution_count": null,
   "metadata": {
    "collapsed": true
   },
   "outputs": [],
   "source": []
  },
  {
   "cell_type": "markdown",
   "metadata": {},
   "source": [
    "- **Chi-Square Test**: This test is used to derive the statistical significance of relationship between the variables.\n",
    "    Also, it tests whether the evidence in the sample is strong enough to generalize that the relationship for \n",
    "    a larger population as well. Chi-square is based on the difference between the expected and observed frequencies\n",
    "    in one or more categories in the two-way table. It returns probability for the computed chi-square distribution with\n",
    "    the degree of freedom.\n",
    "      - Probability of 0: It indicates that both categorical variable are dependent\n",
    "\n",
    "      - Probability of 1: It shows that both variables are independent.\n",
    "\n",
    "      - Probability less than 0.05: It indicates that the relationship between the variables is significant at 95% confidence.\n",
    "        The chi-square test statistic for a test of independence of two categorical variables is found by:\n",
    "\n",
    "Data Exploration, Chi Square, Business Analyticswhere O represents the observed frequency.\n",
    "E is the expected frequency under the null hypothesis and computed by:\n",
    "Data Exploration, Chi Square, Business Analytics\n",
    "From previous two-way table, the expected count for product category 1 to be of small size is  0.22.\n",
    "It is derived by taking the row total for Size (9) times the column total for Product category (2) then dividing by \n",
    "the sample size (81). This is procedure is conducted for each cell. Statistical Measures used to analyze the power of relationship are:\n",
    "\n",
    "Cramer’s V for Nominal Categorical Variable\n",
    "Mantel-Haenszed Chi-Square for ordinal categorical variable.\n",
    "Different data science language and tools have specific methods to perform chi-square test. \n",
    "In SAS, we can use Chisq as an option with Proc freq to perform this test.\n",
    "\n",
    " "
   ]
  },
  {
   "cell_type": "code",
   "execution_count": null,
   "metadata": {
    "collapsed": true
   },
   "outputs": [],
   "source": []
  },
  {
   "cell_type": "markdown",
   "metadata": {},
   "source": [
    "**Categorical & Continuous**: While exploring relation between categorical and continuous variables, we can draw box plots for\n",
    "    each level of categorical variables. If levels are small in number, it will not show the statistical significance. To look\n",
    "    at the statistical significance we can perform Z-test, T-test or ANOVA.\n",
    "\n",
    "- Z-Test/ T-Test:- Either test assess whether mean of two groups are statistically different from each other or not.\n",
    "- Anova"
   ]
  },
  {
   "cell_type": "code",
   "execution_count": null,
   "metadata": {
    "collapsed": true
   },
   "outputs": [],
   "source": []
  },
  {
   "cell_type": "code",
   "execution_count": null,
   "metadata": {
    "collapsed": true
   },
   "outputs": [],
   "source": []
  },
  {
   "cell_type": "markdown",
   "metadata": {},
   "source": [
    "### Missing values treatment"
   ]
  },
  {
   "cell_type": "markdown",
   "metadata": {},
   "source": [
    "**Deletion:**  It is of two types: List Wise Deletion and Pair Wise Deletion.\n",
    "In list wise deletion, we delete observations where any of the variable is missing. Simplicity is one of the major advantage of this method, but this method reduces the power of model because it reduces the sample size."
   ]
  },
  {
   "cell_type": "markdown",
   "metadata": {},
   "source": [
    "**Mean/ Mode/ Median Imputation:** Imputation is a method to fill in the missing values with estimated ones. The objective is to employ known relationships that can be identified in the valid values of the data set to assist in estimating the missing values. Mean / Mode / Median imputation is one of the most frequently used methods. It consists of replacing the missing data for a given attribute by the mean or median (quantitative attribute) or mode (qualitative attribute) of all known values of that variable. It can be of two types:-\n",
    "- Generalized Imputation: In this case, we calculate the mean or median for all non missing values of that variable then replace missing value with mean or median. Like in above table, variable “Manpower” is missing so we take average of all non missing values of “Manpower”  (28.33) and then replace missing value with it.\n",
    "- Similar case Imputation: In this case, we calculate average for gender “Male” (29.75) and “Female” (25) individually of non missing values then replace the missing value based on gender. For “Male“, we will replace missing values of manpower with 29.75 and for “Female” with 25.\n",
    "- Prediction Model:  Prediction model is one of the sophisticated method for handling missing data. Here, we create a predictive model to estimate values that will substitute the missing data.  In this case, we divide our data set into two sets: One set with no missing values for the variable and another one with missing values. First data set become training data set of the model while second data set with missing values is test data set and variable with missing values is treated as target variable. Next, we create a model to predict target variable based on other attributes of the training data set and populate missing values of test data set.We can use regression, ANOVA, Logistic regression and various modeling technique to perform this. There are 2 drawbacks for this approach:\n",
    "\n",
    "1. The model estimated values are usually more well-behaved than the true values\n",
    "    If there are no relationships with attributes in the data set and the attribute with missing values, then the model will not     be precise for estimating missing values.\n",
    "    \n",
    "**KNN Imputation:** In this method of imputation, the missing values of an attribute are imputed using the given number of attributes that are most similar to the attribute whose values are missing. The similarity of two attributes is determined using a distance function. It is also known to have certain advantage & disadvantages.\n",
    "    1. Advantages:\n",
    "        k-nearest neighbour can predict both qualitative & quantitative attributes\n",
    "        Creation of predictive model for each attribute with missing data is not required\n",
    "        Attributes with multiple missing values can be easily treated\n",
    "        Correlation structure of the data is taken into consideration\n",
    "    2.Disadvantage:\n",
    "        KNN algorithm is very time-consuming in analyzing large database. It searches through all the dataset looking for the           most similar instances.\n",
    "        Choice of k-value is very critical. Higher value of k would include attributes which are significantly different from           what we need whereas lower value of k implies missing out of significant attributes.\n"
   ]
  },
  {
   "cell_type": "code",
   "execution_count": null,
   "metadata": {
    "collapsed": true
   },
   "outputs": [],
   "source": []
  },
  {
   "cell_type": "markdown",
   "metadata": {},
   "source": [
    "### Outlier treatment"
   ]
  },
  {
   "cell_type": "code",
   "execution_count": null,
   "metadata": {
    "collapsed": true
   },
   "outputs": [],
   "source": []
  },
  {
   "cell_type": "markdown",
   "metadata": {},
   "source": [
    "### Variable transformation & Variable creation"
   ]
  },
  {
   "cell_type": "code",
   "execution_count": null,
   "metadata": {
    "collapsed": true
   },
   "outputs": [],
   "source": []
  },
  {
   "cell_type": "code",
   "execution_count": null,
   "metadata": {
    "collapsed": true
   },
   "outputs": [],
   "source": []
  },
  {
   "cell_type": "code",
   "execution_count": null,
   "metadata": {
    "collapsed": true
   },
   "outputs": [],
   "source": []
  },
  {
   "cell_type": "code",
   "execution_count": null,
   "metadata": {
    "collapsed": true
   },
   "outputs": [],
   "source": []
  },
  {
   "cell_type": "code",
   "execution_count": null,
   "metadata": {
    "collapsed": true
   },
   "outputs": [],
   "source": []
  },
  {
   "cell_type": "code",
   "execution_count": null,
   "metadata": {
    "collapsed": true
   },
   "outputs": [],
   "source": []
  },
  {
   "cell_type": "code",
   "execution_count": null,
   "metadata": {
    "collapsed": true
   },
   "outputs": [],
   "source": []
  },
  {
   "cell_type": "code",
   "execution_count": null,
   "metadata": {
    "collapsed": true
   },
   "outputs": [],
   "source": []
  }
 ],
 "metadata": {
  "kernelspec": {
   "display_name": "Python 2",
   "language": "python",
   "name": "python2"
  },
  "language_info": {
   "codemirror_mode": {
    "name": "ipython",
    "version": 2
   },
   "file_extension": ".py",
   "mimetype": "text/x-python",
   "name": "python",
   "nbconvert_exporter": "python",
   "pygments_lexer": "ipython2",
   "version": "2.7.12"
  }
 },
 "nbformat": 4,
 "nbformat_minor": 0
}
