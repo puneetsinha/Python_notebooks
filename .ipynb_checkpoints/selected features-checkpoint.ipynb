{
 "cells": [
  {
   "cell_type": "code",
   "execution_count": 99,
   "metadata": {
    "collapsed": true
   },
   "outputs": [],
   "source": [
    "sel_features=['EQPDAYS', 'MONTHS', 'CHANGEM', 'MOU', 'RECCHRGE', 'PEAKVCE', 'OPEAKVCE', 'UNANSVCE', 'OUTCALLS', 'DIRECTAS',\n",
    "              'AGE1', 'ROAM', 'CUSTCARE', 'UNIQSUBS', 'THREEWAY', 'SETPRC', 'PHONES', 'MODELS','CHURNDEP']\n",
    "#from extraTrees classifier feature selection\n",
    "ETclf=['EQPDAYS',  'MONTHS',  'CSA',  'RECCHRGE',  'CHANGEM',  'DROPVCE',  'MOU',  'OPEAKVCE',  'REVENUE', \n",
    "       'MOUREC',  'CHANGER',  'UNANSVCE',  'PEAKVCE',  'BLCKVCE',  'INCOME',  'INCALLS',  'DIRECTAS',  'OUTCALLS',  'AGE1','CHURNDEP']\n",
    "#from Kbest\n",
    "Kbest=['OCCCLER',  'OCCSTUD',  'PCOWN',  'CREDITGY',  'NEWCELLN',  'OCCPROF',  'TRUCK',  'MCYCLE',  'TRAVEL',  'CHANGER', \n",
    "       'MAILFLAG',  'CREDITZ',  'BLCKVCE',  'RV',  'OCCCRFT',  'OCCSELF',  'CHILDREN',  'MARRYYES',  'CSA','CHURNDEP']\n",
    "ENgb=['CHANGEM',  'MOU',  'MONTHS',  'EQPDAYS',  'RECCHRGE',  'OVERAGE',  'CHANGER',  'CSA',  'DROPVCE',  'AGE1',  'INCALLS', \n",
    "      'ROAM',  'UNIQSUBS',  'REVENUE',  'CREDITDE',  'DROPBLK',  'OPEAKVCE',  'RETCALLS',  'WEBCAP',  'RETCALL',  'REFURB',  'SETPRC',  'CHURNDEP']\n",
    "ENgb8=['CHANGEM',  'MOU',  'MONTHS',  'EQPDAYS',  'RECCHRGE',  'OVERAGE',  'CHANGER',  'CSA','CHURNDEP']\n",
    "credit=['CREDITA','CREDITAA','CREDITB',  'CREDITC',  'CREDITDE',  'CREDITGY', 'CREDITZ',  'CREDITCD','CHURNDEP']\n",
    "marry=['MARRYUN','MARRYYES','MARRYNO','CHURNDEP']\n",
    "occ=['OCCCLER','OCCCRFT','OCCHMKR','OCCPROF','OCCRET','OCCSELF','OCCSTUD','CHURNDEP']\n",
    "vas=['DIRECTAS','THREEWAY','MOUREC','CALLFWDV','CALLWAIT','CHURNDEP']\n",
    "zipco=['PRIZMRUR','PRIZMUB','PRIZMTWN','CHURNDEP']\n",
    "cust=['CUSTCARE','DROPBLK','MAILRES','MAILFLAG','INCMISS','INCOME','CHURNDEP']\n",
    "cdemo=['MONTHS','UNIQSUBS','PHONES','MODELS','EQPDAYS','AGE1','REFURB','WEBCAP','CREDITCD','NEWCELLY','NEWCELLN','SETPRCM','SETPRC','CHURNDEP']\n",
    "last=['ACTVSUBS', 'AGE1', 'CHANGEM', 'CHANGER', 'CREDITC', 'CREDITDE', 'CSA', 'CUSTCARE', 'DROPBLK', 'DROPVCE',\n",
    " 'EQPDAYS', 'INCALLS', 'MAILRES', 'MONTHS', 'MOU', 'PHONES', 'RECCHRGE', 'ROAM', 'SETPRC', 'WEBCAP','CHURNDEP']"
   ]
  },
  {
   "cell_type": "code",
   "execution_count": 1,
   "metadata": {
    "collapsed": false
   },
   "outputs": [
    {
     "name": "stdout",
     "output_type": "stream",
     "text": [
      "Populating the interactive namespace from numpy and matplotlib\n",
      "D:\\analytixlabs\\Complete_datasets\n"
     ]
    }
   ],
   "source": [
    "### importing Intial libraries\n",
    "import os\n",
    "import numpy as np\n",
    "import pandas as pd\n",
    "import matplotlib.pyplot as plt\n",
    "import seaborn as sns\n",
    "\n",
    "%pylab inline\n",
    "pd.options.display.max_columns=100\n",
    "pd.options.display.max_rows=22\n",
    "\n",
    "os.chdir(\"D:\\\\analytixlabs\\\\Complete_datasets\")\n",
    "print os.getcwd() \n",
    "Telecom=pd.read_csv(\"Proactive Attrition Management-Logistic Regression Case Study.csv\")"
   ]
  },
  {
   "cell_type": "code",
   "execution_count": 2,
   "metadata": {
    "collapsed": false
   },
   "outputs": [
    {
     "name": "stdout",
     "output_type": "stream",
     "text": [
      "(31047, 78)\n",
      "(40000, 78)\n"
     ]
    }
   ],
   "source": [
    "Val_Telecom=Telecom.loc[Telecom.CHURNDEP.isnull()]\n",
    "TT_Telecom=Telecom.loc[Telecom.CHURNDEP.isin([0,1])]\n",
    "print Val_Telecom.shape\n",
    "print TT_Telecom.shape\n",
    "\n",
    "def missing(x):\n",
    "    return sum(x.isnull())\n",
    "\n",
    "#print \"Missing values per column:\"\n",
    "#TT_Telecom.loc[ : ,TT_Telecom.apply(missing, axis=0)!=0]"
   ]
  },
  {
   "cell_type": "code",
   "execution_count": 7,
   "metadata": {
    "collapsed": false
   },
   "outputs": [
    {
     "name": "stderr",
     "output_type": "stream",
     "text": [
      "C:\\Users\\Lenovo\\Anaconda2\\lib\\site-packages\\ipykernel\\__main__.py:8: SettingWithCopyWarning: \n",
      "A value is trying to be set on a copy of a slice from a DataFrame\n",
      "\n",
      "See the caveats in the documentation: http://pandas.pydata.org/pandas-docs/stable/indexing.html#indexing-view-versus-copy\n",
      "C:\\Users\\Lenovo\\Anaconda2\\lib\\site-packages\\pandas\\core\\generic.py:3191: SettingWithCopyWarning: \n",
      "A value is trying to be set on a copy of a slice from a DataFrame\n",
      "\n",
      "See the caveats in the documentation: http://pandas.pydata.org/pandas-docs/stable/indexing.html#indexing-view-versus-copy\n",
      "  self._update_inplace(new_data)\n"
     ]
    }
   ],
   "source": [
    "#removing these 2 columns will give us the base model with any NAs['CALIBRAT' ,'CALLFWDV' ,'CALLWAIT',]\n",
    "from warnings import WarningMessage,filterwarnings\n",
    "\n",
    "\n",
    "#TT_Telecom.drop(labels=['CHURN','CALIBRAT' ,'CALLFWDV' ,'CALLWAIT','CUSTOMER','RETCALL','RETCALLS','RETACCPT','MODELS','MOUREC',\n",
    "#                        'BLCKVCE','DROPBLK','INCMISS','OWNRENT','OVERAGE','UNIQSUBS','AGE2','PEAKVCE','OPEAKVCE','REFURB','TRUCK',\n",
    "#                        'TRUCK','RV','MARRYUN','MAILORD','PCOWN','NEWCELLN','MCYCLE','REVENUE','MAILFLAG','CHANGER'],inplace=True,axis=1)\n",
    "TT_Telecom.dropna(subset=['AGE1','CHANGEM'],inplace=True)\n",
    "\n",
    "#CSA cant be identified so we we will keep them as missing\n",
    "TT_Telecom.CSA.fillna('Missing',inplace=True)"
   ]
  },
  {
   "cell_type": "code",
   "execution_count": 100,
   "metadata": {
    "collapsed": false
   },
   "outputs": [
    {
     "data": {
      "text/plain": [
       "(38941, 21)"
      ]
     },
     "execution_count": 100,
     "metadata": {},
     "output_type": "execute_result"
    }
   ],
   "source": [
    "df_TTelecom=TT_Telecom[last]\n",
    "df_TTelecom.shape\n",
    "\n"
   ]
  },
  {
   "cell_type": "code",
   "execution_count": 101,
   "metadata": {
    "collapsed": false
   },
   "outputs": [
    {
     "data": {
      "text/html": [
       "<div>\n",
       "<table border=\"1\" class=\"dataframe\">\n",
       "  <thead>\n",
       "    <tr style=\"text-align: right;\">\n",
       "      <th></th>\n",
       "      <th>ACTVSUBS</th>\n",
       "      <th>AGE1</th>\n",
       "      <th>CHANGEM</th>\n",
       "      <th>CHANGER</th>\n",
       "      <th>CREDITC</th>\n",
       "      <th>CREDITDE</th>\n",
       "      <th>CSA</th>\n",
       "      <th>CUSTCARE</th>\n",
       "      <th>DROPBLK</th>\n",
       "      <th>DROPVCE</th>\n",
       "      <th>EQPDAYS</th>\n",
       "      <th>INCALLS</th>\n",
       "      <th>MAILRES</th>\n",
       "      <th>MONTHS</th>\n",
       "      <th>MOU</th>\n",
       "      <th>PHONES</th>\n",
       "      <th>RECCHRGE</th>\n",
       "      <th>ROAM</th>\n",
       "      <th>SETPRC</th>\n",
       "      <th>WEBCAP</th>\n",
       "      <th>CHURNDEP</th>\n",
       "    </tr>\n",
       "  </thead>\n",
       "  <tbody>\n",
       "    <tr>\n",
       "      <th>31047</th>\n",
       "      <td>1</td>\n",
       "      <td>26.0</td>\n",
       "      <td>-1.5</td>\n",
       "      <td>0.0</td>\n",
       "      <td>0</td>\n",
       "      <td>0</td>\n",
       "      <td>MILMIL414</td>\n",
       "      <td>0.0</td>\n",
       "      <td>0.0</td>\n",
       "      <td>0.0</td>\n",
       "      <td>1812.0</td>\n",
       "      <td>0.0</td>\n",
       "      <td>0</td>\n",
       "      <td>60</td>\n",
       "      <td>7.5</td>\n",
       "      <td>1.0</td>\n",
       "      <td>38.0</td>\n",
       "      <td>0.0</td>\n",
       "      <td>0.0</td>\n",
       "      <td>0</td>\n",
       "      <td>0.0</td>\n",
       "    </tr>\n",
       "  </tbody>\n",
       "</table>\n",
       "</div>"
      ],
      "text/plain": [
       "       ACTVSUBS  AGE1  CHANGEM  CHANGER  CREDITC  CREDITDE        CSA  \\\n",
       "31047         1  26.0     -1.5      0.0        0         0  MILMIL414   \n",
       "\n",
       "       CUSTCARE  DROPBLK  DROPVCE  EQPDAYS  INCALLS  MAILRES  MONTHS  MOU  \\\n",
       "31047       0.0      0.0      0.0   1812.0      0.0        0      60  7.5   \n",
       "\n",
       "       PHONES  RECCHRGE  ROAM  SETPRC  WEBCAP  CHURNDEP  \n",
       "31047     1.0      38.0   0.0     0.0       0       0.0  "
      ]
     },
     "execution_count": 101,
     "metadata": {},
     "output_type": "execute_result"
    }
   ],
   "source": [
    "df_TTelecom.head(1)"
   ]
  },
  {
   "cell_type": "code",
   "execution_count": 102,
   "metadata": {
    "collapsed": false
   },
   "outputs": [
    {
     "name": "stdout",
     "output_type": "stream",
     "text": [
      "(31152, 20)\n",
      "(7789, 20)\n",
      "(31152L,)\n",
      "(7789L,)\n"
     ]
    }
   ],
   "source": [
    "X=df_TTelecom.ix[:,:-1]\n",
    "y=df_TTelecom.CHURNDEP\n",
    "#X_test=Val_Telecom.ix[:,:-1]\n",
    "#y_test=Val_Telecom.CHURNDEP\n",
    "\n",
    "from sklearn.cross_validation import train_test_split\n",
    "X_train,X_test,y_train, y_test=train_test_split(X,y,test_size=0.20,random_state=0)\n",
    "\n",
    "print X_train.shape\n",
    "print X_test.shape\n",
    "print y_train.shape\n",
    "print y_test.shape\n",
    "names=X_train.columns.tolist()"
   ]
  },
  {
   "cell_type": "code",
   "execution_count": 103,
   "metadata": {
    "collapsed": false
   },
   "outputs": [
    {
     "name": "stderr",
     "output_type": "stream",
     "text": [
      "C:\\Users\\Lenovo\\Anaconda2\\lib\\site-packages\\pandas\\core\\generic.py:2701: SettingWithCopyWarning: \n",
      "A value is trying to be set on a copy of a slice from a DataFrame.\n",
      "Try using .loc[row_indexer,col_indexer] = value instead\n",
      "\n",
      "See the caveats in the documentation: http://pandas.pydata.org/pandas-docs/stable/indexing.html#indexing-view-versus-copy\n",
      "  self[name] = value\n"
     ]
    }
   ],
   "source": [
    "from sklearn.preprocessing import LabelEncoder\n",
    "lbl_enc=LabelEncoder()\n",
    "lbl_enc.fit(X_train['CSA'])\n",
    "X_train.CSA=lbl_enc.transform(X_train['CSA'])\n",
    "\n",
    "lbl_enc.fit(X_test['CSA'])\n",
    "X_test.CSA=lbl_enc.transform(X_test['CSA'])"
   ]
  },
  {
   "cell_type": "code",
   "execution_count": 104,
   "metadata": {
    "collapsed": true
   },
   "outputs": [],
   "source": [
    "#names=X_train.columns.tolist()\n",
    "\n",
    "from sklearn.preprocessing import StandardScaler\n",
    "sc=StandardScaler()\n",
    "X_train = sc.fit_transform(X_train)\n",
    "X_test= sc.fit_transform(X_test)"
   ]
  },
  {
   "cell_type": "code",
   "execution_count": 105,
   "metadata": {
    "collapsed": false
   },
   "outputs": [
    {
     "name": "stdout",
     "output_type": "stream",
     "text": [
      "Optimal number of features : 19\n"
     ]
    },
    {
     "data": {
      "image/png": "[encoded data removed]",
      "text/plain": [
       "<matplotlib.figure.Figure at 0xc06c6a0>"
      ]
     },
     "metadata": {},
     "output_type": "display_data"
    }
   ],
   "source": [
    "from sklearn.cross_validation import StratifiedKFold\n",
    "from sklearn.feature_selection import RFECV\n",
    "from sklearn.ensemble import RandomForestClassifier, AdaBoostClassifier\n",
    "\n",
    "# Create the RFE object and compute a cross-validated score.\n",
    "adb = AdaBoostClassifier()\n",
    "# The \"accuracy\" scoring is proportional to the number of correct\n",
    "# classifications\n",
    "rfecv = RFECV(estimator=adb, step=1, cv=StratifiedKFold(y_train, 2),\n",
    "              scoring='accuracy')\n",
    "rfecv.fit(X_train, y_train)\n",
    "\n",
    "print(\"Optimal number of features : %d\" % rfecv.n_features_)\n",
    "\n",
    "# Plot number of features VS. cross-validation scores\n",
    "plt.figure()\n",
    "plt.xlabel(\"Number of features selected\")\n",
    "plt.ylabel(\"Cross validation score (nb of correct classifications)\")\n",
    "plt.plot(range(1, len(rfecv.grid_scores_) + 1), rfecv.grid_scores_)\n",
    "plt.show()"
   ]
  },
  {
   "cell_type": "code",
   "execution_count": 98,
   "metadata": {
    "collapsed": false
   },
   "outputs": [
    {
     "name": "stdout",
     "output_type": "stream",
     "text": [
      "[(1.0, 'AGE1'), (1.0, 'EQPDAYS'), (1.0, 'MODELS'), (1.0, 'MONTHS'), (1.0, 'NEWCELLY'), (1.0, 'PHONES'), (1.0, 'REFURB'), (1.0, 'SETPRC'), (1.0, 'UNIQSUBS'), (1.0, 'WEBCAP'), (2.0, 'SETPRCM'), (3.0, 'NEWCELLN'), (4.0, 'CREDITCD')]\n",
      "       MONTHS  UNIQSUBS  PHONES  MODELS  EQPDAYS  AGE1  REFURB  WEBCAP  \\\n",
      "59497      16         1     1.0     1.0    472.0  42.0       0       1   \n",
      "\n",
      "       CREDITCD  NEWCELLY  NEWCELLN  SETPRCM  SETPRC  \n",
      "59497         1         0         0        1     0.0  \n"
     ]
    },
    {
     "data": {
      "text/plain": [
       "array([1, 1, 1, 1, 1, 1, 1, 1, 4, 1, 3, 2, 1])"
      ]
     },
     "execution_count": 98,
     "metadata": {},
     "output_type": "execute_result"
    }
   ],
   "source": [
    "print sorted(zip(map(lambda x: round(x, 4), rfecv.ranking_), names),reverse=False)\n",
    "print X_train.head(1)\n",
    "rfecv.ranking_"
   ]
  },
  {
   "cell_type": "code",
   "execution_count": 68,
   "metadata": {
    "collapsed": false
   },
   "outputs": [],
   "source": [
    "from sklearn.preprocessing import StandardScaler\n",
    "sc=StandardScaler()\n",
    "X_train = sc.fit_transform(X_train)\n",
    "X_test= sc.fit_transform(X_test)"
   ]
  },
  {
   "cell_type": "code",
   "execution_count": null,
   "metadata": {
    "collapsed": false
   },
   "outputs": [],
   "source": [
    "X_train.head(2)"
   ]
  },
  {
   "cell_type": "code",
   "execution_count": 106,
   "metadata": {
    "collapsed": true
   },
   "outputs": [],
   "source": [
    "from matplotlib.colors import ListedColormap\n",
    "from sklearn.cross_validation import train_test_split\n",
    "from sklearn.preprocessing import StandardScaler\n",
    "from sklearn.datasets import make_moons, make_circles, make_classification\n",
    "from sklearn.neighbors import KNeighborsClassifier\n",
    "from sklearn.svm import SVC\n",
    "from sklearn.tree import DecisionTreeClassifier\n",
    "from sklearn.ensemble import RandomForestClassifier, AdaBoostClassifier\n",
    "from sklearn.naive_bayes import GaussianNB\n",
    "from sklearn.discriminant_analysis import LinearDiscriminantAnalysis\n",
    "from sklearn.discriminant_analysis import QuadraticDiscriminantAnalysis\n",
    "\n",
    "names = [\"Nearest Neighbors\", \"Linear SVM\", \"RBF SVM\", \"Decision Tree\",\n",
    "         \"Random Forest\", \"AdaBoost\", \"Naive Bayes\", \"Linear Discriminant Analysis\",\n",
    "         \"Quadratic Discriminant Analysis\"]\n",
    "classifiers = [\n",
    "    KNeighborsClassifier(2),\n",
    "    SVC(kernel=\"linear\", C=0.025),\n",
    "    SVC(gamma=2, C=1),\n",
    "    DecisionTreeClassifier(max_depth=5),\n",
    "    RandomForestClassifier(max_depth=5, n_estimators=400, max_features=1),\n",
    "    AdaBoostClassifier(),\n",
    "    GaussianNB(),\n",
    "    LinearDiscriminantAnalysis(),\n",
    "    QuadraticDiscriminantAnalysis()]\n"
   ]
  },
  {
   "cell_type": "code",
   "execution_count": 107,
   "metadata": {
    "collapsed": false
   },
   "outputs": [
    {
     "name": "stdout",
     "output_type": "stream",
     "text": [
      "****************************************************************************************************\n",
      "Classifier is Nearest Neighbors\n",
      "SCORE0.52638336115\n",
      "****************************************************************************************************\n",
      "Classifier is Linear SVM\n",
      "SCORE0.572730774169\n",
      "****************************************************************************************************\n",
      "Classifier is RBF SVM\n",
      "SCORE0.541789703428\n",
      "****************************************************************************************************\n",
      "Classifier is Decision Tree\n",
      "SCORE0.594941584286\n",
      "****************************************************************************************************\n",
      "Classifier is Random Forest\n",
      "SCORE0.593144177686\n",
      "****************************************************************************************************\n",
      "Classifier is AdaBoost\n",
      "SCORE0.603543458724\n",
      "****************************************************************************************************\n",
      "Classifier is Naive Bayes\n",
      "SCORE0.545127744255\n",
      "****************************************************************************************************\n",
      "Classifier is Linear Discriminant Analysis\n",
      "SCORE0.575298497882\n",
      "****************************************************************************************************\n",
      "Classifier is Quadratic Discriminant Analysis\n",
      "SCORE0.555527025292\n"
     ]
    }
   ],
   "source": [
    "# iterate over classifiers\n",
    "for name, clf in zip(names, classifiers):\n",
    "    clf.fit(X_train, y_train)\n",
    "    score = clf.score(X_test, y_test)\n",
    "    \n",
    "    print '*'*100\n",
    "    print \"Classifier is \" + str(name)\n",
    "    \n",
    "    print \"SCORE\" + str(score)\n",
    "    \n",
    "    \n",
    "        "
   ]
  },
  {
   "cell_type": "code",
   "execution_count": 77,
   "metadata": {
    "collapsed": false
   },
   "outputs": [
    {
     "data": {
      "text/plain": [
       "1.0    3898\n",
       "0.0    3891\n",
       "Name: CHURNDEP, dtype: int64"
      ]
     },
     "execution_count": 77,
     "metadata": {},
     "output_type": "execute_result"
    }
   ],
   "source": [
    "y_test.value_counts()"
   ]
  },
  {
   "cell_type": "code",
   "execution_count": 68,
   "metadata": {
    "collapsed": false
   },
   "outputs": [
    {
     "data": {
      "text/plain": [
       "['REVENUE',\n",
       " 'MOU',\n",
       " 'RECCHRGE',\n",
       " 'DIRECTAS',\n",
       " 'OVERAGE',\n",
       " 'ROAM',\n",
       " 'CHANGEM',\n",
       " 'CHANGER',\n",
       " 'DROPVCE',\n",
       " 'BLCKVCE',\n",
       " 'UNANSVCE',\n",
       " 'CUSTCARE',\n",
       " 'THREEWAY',\n",
       " 'MOUREC',\n",
       " 'OUTCALLS',\n",
       " 'INCALLS',\n",
       " 'PEAKVCE',\n",
       " 'OPEAKVCE',\n",
       " 'DROPBLK',\n",
       " 'CALLFWDV',\n",
       " 'CALLWAIT',\n",
       " 'CHURN',\n",
       " 'MONTHS',\n",
       " 'UNIQSUBS',\n",
       " 'ACTVSUBS',\n",
       " 'CSA',\n",
       " 'PHONES',\n",
       " 'MODELS',\n",
       " 'EQPDAYS',\n",
       " 'CUSTOMER',\n",
       " 'AGE1',\n",
       " 'AGE2',\n",
       " 'CHILDREN',\n",
       " 'CREDITA',\n",
       " 'CREDITAA',\n",
       " 'CREDITB',\n",
       " 'CREDITC',\n",
       " 'CREDITDE',\n",
       " 'CREDITGY',\n",
       " 'CREDITZ',\n",
       " 'PRIZMRUR',\n",
       " 'PRIZMUB',\n",
       " 'PRIZMTWN',\n",
       " 'REFURB',\n",
       " 'WEBCAP',\n",
       " 'TRUCK',\n",
       " 'RV',\n",
       " 'OCCPROF',\n",
       " 'OCCCLER',\n",
       " 'OCCCRFT',\n",
       " 'OCCSTUD',\n",
       " 'OCCHMKR',\n",
       " 'OCCRET',\n",
       " 'OCCSELF',\n",
       " 'OWNRENT',\n",
       " 'MARRYUN',\n",
       " 'MARRYYES',\n",
       " 'MARRYNO',\n",
       " 'MAILORD',\n",
       " 'MAILRES',\n",
       " 'MAILFLAG',\n",
       " 'TRAVEL',\n",
       " 'PCOWN',\n",
       " 'CREDITCD',\n",
       " 'RETCALLS',\n",
       " 'RETACCPT',\n",
       " 'NEWCELLY',\n",
       " 'NEWCELLN',\n",
       " 'REFER',\n",
       " 'INCMISS',\n",
       " 'INCOME',\n",
       " 'MCYCLE',\n",
       " 'CREDITAD',\n",
       " 'SETPRCM',\n",
       " 'SETPRC',\n",
       " 'RETCALL',\n",
       " 'CALIBRAT',\n",
       " 'CHURNDEP']"
      ]
     },
     "execution_count": 68,
     "metadata": {},
     "output_type": "execute_result"
    }
   ],
   "source": [
    "TT_Telecom.columns.tolist()"
   ]
  }
 ],
 "metadata": {
  "kernelspec": {
   "display_name": "Python 2",
   "language": "python",
   "name": "python2"
  },
  "language_info": {
   "codemirror_mode": {
    "name": "ipython",
    "version": 2
   },
   "file_extension": ".py",
   "mimetype": "text/x-python",
   "name": "python",
   "nbconvert_exporter": "python",
   "pygments_lexer": "ipython2",
   "version": "2.7.12"
  }
 },
 "nbformat": 4,
 "nbformat_minor": 0
}
