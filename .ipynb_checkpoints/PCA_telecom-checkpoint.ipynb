{
 "cells": [
  {
   "cell_type": "code",
   "execution_count": 1,
   "metadata": {
    "collapsed": false
   },
   "outputs": [
    {
     "name": "stdout",
     "output_type": "stream",
     "text": [
      "Populating the interactive namespace from numpy and matplotlib\n",
      "D:\\analytixlabs\\Complete_datasets\n"
     ]
    }
   ],
   "source": [
    "import os\n",
    "import numpy as np\n",
    "import pandas as pd\n",
    "import matplotlib.pyplot as plt\n",
    "import seaborn as sns\n",
    "\n",
    "%pylab inline\n",
    "pd.options.display.max_columns=100\n",
    "pd.options.display.max_rows=15\n",
    "#importing Dataset\n",
    "\n",
    "os.chdir(\"D:\\\\analytixlabs\\\\Complete_datasets\")\n",
    "print os.getcwd() \n",
    "Telecom=pd.read_csv(\"Proactive Attrition Management-Logistic Regression Case Study.csv\")\n"
   ]
  },
  {
   "cell_type": "code",
   "execution_count": 2,
   "metadata": {
    "collapsed": false
   },
   "outputs": [
    {
     "name": "stdout",
     "output_type": "stream",
     "text": [
      "(31047, 78)\n",
      "(40000, 78)\n"
     ]
    }
   ],
   "source": [
    "Val_Telecom=Telecom.loc[Telecom.CHURNDEP.isnull()]\n",
    "TT_Telecom=Telecom.loc[Telecom.CHURNDEP.isin([0,1])]\n",
    "print Val_Telecom.shape\n",
    "print TT_Telecom.shape\n",
    "\n",
    "def missing(x):\n",
    "    return sum(x.isnull())\n",
    "\n",
    "#print \"Missing values per column:\"\n",
    "#TT_Telecom.loc[ : ,TT_Telecom.apply(missing, axis=0)!=0]"
   ]
  },
  {
   "cell_type": "code",
   "execution_count": 3,
   "metadata": {
    "collapsed": false
   },
   "outputs": [
    {
     "name": "stderr",
     "output_type": "stream",
     "text": [
      "C:\\Users\\Lenovo\\Anaconda2\\lib\\site-packages\\ipykernel\\__main__.py:5: SettingWithCopyWarning: \n",
      "A value is trying to be set on a copy of a slice from a DataFrame\n",
      "\n",
      "See the caveats in the documentation: http://pandas.pydata.org/pandas-docs/stable/indexing.html#indexing-view-versus-copy\n",
      "C:\\Users\\Lenovo\\Anaconda2\\lib\\site-packages\\ipykernel\\__main__.py:6: SettingWithCopyWarning: \n",
      "A value is trying to be set on a copy of a slice from a DataFrame\n",
      "\n",
      "See the caveats in the documentation: http://pandas.pydata.org/pandas-docs/stable/indexing.html#indexing-view-versus-copy\n",
      "C:\\Users\\Lenovo\\Anaconda2\\lib\\site-packages\\pandas\\core\\generic.py:3191: SettingWithCopyWarning: \n",
      "A value is trying to be set on a copy of a slice from a DataFrame\n",
      "\n",
      "See the caveats in the documentation: http://pandas.pydata.org/pandas-docs/stable/indexing.html#indexing-view-versus-copy\n",
      "  self._update_inplace(new_data)\n"
     ]
    }
   ],
   "source": [
    "#removing these 2 columns will give us the base model with any NAs['CALIBRAT' ,'CALLFWDV' ,'CALLWAIT',]\n",
    "\n",
    "TT_Telecom.drop(labels=['CHURN','CALIBRAT' ,'CALLFWDV' ,'CALLWAIT','CUSTOMER','MAILORD','RETCALL','RETCALLS','MODELS','MOUREC',\n",
    "                        'BLCKVCE','PEAKVCE','OPEAKVCE','RETACCPT','DROPBLK','INCMISS','OWNRENT','OVERAGE','UNIQSUBS','AGE2'\n",
    "                       ,'MOU'],inplace=True,axis=1)\n",
    "TT_Telecom.dropna(subset=['AGE1','CHANGEM'],inplace=True)\n",
    "\n",
    "#CSA cant be identified so we we will keep them as missing\n",
    "TT_Telecom.CSA.fillna('Missing',inplace=True)\n"
   ]
  },
  {
   "cell_type": "code",
   "execution_count": 4,
   "metadata": {
    "collapsed": false
   },
   "outputs": [
    {
     "name": "stdout",
     "output_type": "stream",
     "text": [
      "(31152, 56)\n",
      "(7789, 56)\n",
      "(31152L,)\n",
      "(7789L,)\n"
     ]
    }
   ],
   "source": [
    "X=TT_Telecom.ix[:,:-1]\n",
    "y=TT_Telecom.CHURNDEP\n",
    "#X_test=Val_Telecom.ix[:,:-1]\n",
    "#y_test=Val_Telecom.CHURNDEP\n",
    "\n",
    "from sklearn.cross_validation import train_test_split\n",
    "X_train,X_test,y_train, y_test=train_test_split(X,y,test_size=0.20,random_state=0)\n",
    "\n",
    "print X_train.shape\n",
    "print X_test.shape\n",
    "print y_train.shape\n",
    "print y_test.shape"
   ]
  },
  {
   "cell_type": "code",
   "execution_count": 5,
   "metadata": {
    "collapsed": false
   },
   "outputs": [
    {
     "name": "stderr",
     "output_type": "stream",
     "text": [
      "C:\\Users\\Lenovo\\Anaconda2\\lib\\site-packages\\pandas\\core\\generic.py:2701: SettingWithCopyWarning: \n",
      "A value is trying to be set on a copy of a slice from a DataFrame.\n",
      "Try using .loc[row_indexer,col_indexer] = value instead\n",
      "\n",
      "See the caveats in the documentation: http://pandas.pydata.org/pandas-docs/stable/indexing.html#indexing-view-versus-copy\n",
      "  self[name] = value\n"
     ]
    }
   ],
   "source": [
    "from sklearn.preprocessing import LabelEncoder\n",
    "lbl_enc=LabelEncoder()\n",
    "lbl_enc.fit(X_train['CSA'])\n",
    "X_train.CSA=lbl_enc.transform(X_train['CSA'])\n",
    "\n",
    "lbl_enc.fit(X_test['CSA'])\n",
    "X_test.CSA=lbl_enc.transform(X_test['CSA'])"
   ]
  },
  {
   "cell_type": "code",
   "execution_count": 6,
   "metadata": {
    "collapsed": true
   },
   "outputs": [],
   "source": [
    "def mosthighlycorrelated(mydataframe, numtoreport):\n",
    "    # find the correlations\n",
    "    cormatrix = mydataframe.corr()\n",
    "    # set the correlations on the diagonal or lower triangle to zero,\n",
    "    # so they will not be reported as the highest ones:\n",
    "    cormatrix *= np.tri(*cormatrix.values.shape, k=-1).T\n",
    "    # find the top n correlations\n",
    "    cormatrix = cormatrix.stack()\n",
    "    cormatrix = cormatrix.reindex(cormatrix.abs().sort_values(ascending=False).index).reset_index()\n",
    "    # assign human-friendly names\n",
    "    cormatrix.columns = [\"FirstVariable\", \"SecondVariable\", \"Correlation\"]\n",
    "    return cormatrix.head(numtoreport)"
   ]
  },
  {
   "cell_type": "code",
   "execution_count": 7,
   "metadata": {
    "collapsed": false
   },
   "outputs": [
    {
     "data": {
      "text/html": [
       "<div>\n",
       "<table border=\"1\" class=\"dataframe\">\n",
       "  <thead>\n",
       "    <tr style=\"text-align: right;\">\n",
       "      <th></th>\n",
       "      <th>FirstVariable</th>\n",
       "      <th>SecondVariable</th>\n",
       "      <th>Correlation</th>\n",
       "    </tr>\n",
       "  </thead>\n",
       "  <tbody>\n",
       "    <tr>\n",
       "      <th>0</th>\n",
       "      <td>OUTCALLS</td>\n",
       "      <td>INCALLS</td>\n",
       "      <td>0.736755</td>\n",
       "    </tr>\n",
       "    <tr>\n",
       "      <th>1</th>\n",
       "      <td>SETPRCM</td>\n",
       "      <td>SETPRC</td>\n",
       "      <td>-0.719267</td>\n",
       "    </tr>\n",
       "    <tr>\n",
       "      <th>2</th>\n",
       "      <td>CREDITCD</td>\n",
       "      <td>INCOME</td>\n",
       "      <td>0.703050</td>\n",
       "    </tr>\n",
       "    <tr>\n",
       "      <th>3</th>\n",
       "      <td>PHONES</td>\n",
       "      <td>SETPRCM</td>\n",
       "      <td>-0.689139</td>\n",
       "    </tr>\n",
       "    <tr>\n",
       "      <th>4</th>\n",
       "      <td>AGE1</td>\n",
       "      <td>CREDITCD</td>\n",
       "      <td>0.681406</td>\n",
       "    </tr>\n",
       "    <tr>\n",
       "      <th>5</th>\n",
       "      <td>AGE1</td>\n",
       "      <td>INCOME</td>\n",
       "      <td>0.638964</td>\n",
       "    </tr>\n",
       "    <tr>\n",
       "      <th>6</th>\n",
       "      <td>REVENUE</td>\n",
       "      <td>RECCHRGE</td>\n",
       "      <td>0.622034</td>\n",
       "    </tr>\n",
       "    <tr>\n",
       "      <th>7</th>\n",
       "      <td>TRUCK</td>\n",
       "      <td>RV</td>\n",
       "      <td>0.620670</td>\n",
       "    </tr>\n",
       "    <tr>\n",
       "      <th>8</th>\n",
       "      <td>CHANGEM</td>\n",
       "      <td>CHANGER</td>\n",
       "      <td>0.615438</td>\n",
       "    </tr>\n",
       "    <tr>\n",
       "      <th>9</th>\n",
       "      <td>MARRYUN</td>\n",
       "      <td>CREDITCD</td>\n",
       "      <td>-0.604599</td>\n",
       "    </tr>\n",
       "  </tbody>\n",
       "</table>\n",
       "</div>"
      ],
      "text/plain": [
       "  FirstVariable SecondVariable  Correlation\n",
       "0      OUTCALLS        INCALLS     0.736755\n",
       "1       SETPRCM         SETPRC    -0.719267\n",
       "2      CREDITCD         INCOME     0.703050\n",
       "3        PHONES        SETPRCM    -0.689139\n",
       "4          AGE1       CREDITCD     0.681406\n",
       "5          AGE1         INCOME     0.638964\n",
       "6       REVENUE       RECCHRGE     0.622034\n",
       "7         TRUCK             RV     0.620670\n",
       "8       CHANGEM        CHANGER     0.615438\n",
       "9       MARRYUN       CREDITCD    -0.604599"
      ]
     },
     "execution_count": 7,
     "metadata": {},
     "output_type": "execute_result"
    }
   ],
   "source": [
    "mosthighlycorrelated(X_train,10)"
   ]
  },
  {
   "cell_type": "markdown",
   "metadata": {},
   "source": [
    "### applyin PCA"
   ]
  },
  {
   "cell_type": "code",
   "execution_count": 8,
   "metadata": {
    "collapsed": false
   },
   "outputs": [
    {
     "name": "stdout",
     "output_type": "stream",
     "text": [
      "[ 10.29  17.5   21.91  25.51  28.53  31.42  34.07  36.47  38.76  40.99\n",
      "  43.17  45.32  47.42  49.42  51.4   53.31  55.18  57.03  58.87  60.69\n",
      "  62.51  64.31  66.09  67.86  69.59  71.3   72.99  74.66  76.31  77.94\n",
      "  79.47  80.93  82.31  83.65  84.93  86.17  87.39  88.51  89.57  90.6 ]\n"
     ]
    },
    {
     "data": {
      "text/plain": [
       "[<matplotlib.lines.Line2D at 0xa4ebc50>]"
      ]
     },
     "execution_count": 8,
     "metadata": {},
     "output_type": "execute_result"
    },
    {
     "data": {
      "image/png": "[encoded data removed]",
      "text/plain": [
       "<matplotlib.figure.Figure at 0xe501400>"
      ]
     },
     "metadata": {},
     "output_type": "display_data"
    }
   ],
   "source": [
    "from sklearn.decomposition import PCA\n",
    "from sklearn.preprocessing import scale\n",
    "\n",
    "#Scaling the values\n",
    "X = scale(X_train)\n",
    "Xt=scale(X_test)\n",
    "\n",
    "\n",
    "pca = PCA(n_components=40)\n",
    "pca.fit(X)\n",
    "\n",
    "#The amount of variance that each PC explains\n",
    "var= pca.explained_variance_ratio_\n",
    "\n",
    "#Cumulative Variance explains\n",
    "var1=np.cumsum(np.round(pca.explained_variance_ratio_, decimals=4)*100)\n",
    "\n",
    "print var1\n",
    "\n",
    "plt.plot(var1)\n",
    "\n"
   ]
  },
  {
   "cell_type": "code",
   "execution_count": 32,
   "metadata": {
    "collapsed": false
   },
   "outputs": [
    {
     "data": {
      "image/png": "[encoded data removed]",
      "text/plain": [
       "<matplotlib.figure.Figure at 0xe5277f0>"
      ]
     },
     "metadata": {},
     "output_type": "display_data"
    }
   ],
   "source": [
    "def screeplot(pca, standardised_values):\n",
    "    y = np.std(pca.transform(standardised_values), axis=0)**2\n",
    "    x = np.arange(len(y)) + 1\n",
    "    plt.figure(figsize=(10,5))\n",
    "    plt.plot(x, y, \"o-\")\n",
    "    plt.xticks(x, [\"Comp.\"+str(i) for i in x], rotation=60)\n",
    "    plt.ylabel(\"Variance\")\n",
    "    plt.show()\n",
    "    \n",
    "\n",
    "screeplot(pca,X)"
   ]
  },
  {
   "cell_type": "code",
   "execution_count": null,
   "metadata": {
    "collapsed": true
   },
   "outputs": [],
   "source": []
  },
  {
   "cell_type": "code",
   "execution_count": null,
   "metadata": {
    "collapsed": true
   },
   "outputs": [],
   "source": [
    "def pca_scatter(pca, standardised_values, classifs):\n",
    "    foo = pca.transform(standardised_values)\n",
    "    bar = pd.DataFrame(zip(foo[:, 0], foo[:, 1], classifs))\n",
    "    sns.lmplot(\"PC1\", \"PC2\", bar, hue=\"Class\",size=10, fit_reg=False)\n",
    "\n",
    "pca_scatter(pca, X, y_train)"
   ]
  },
  {
   "cell_type": "code",
   "execution_count": 9,
   "metadata": {
    "collapsed": false
   },
   "outputs": [
    {
     "name": "stdout",
     "output_type": "stream",
     "text": [
      "[[-2.19747494 -1.96626258  0.50199691 ...,  0.08777308  1.20783818\n",
      "   3.09818221]\n",
      " [-1.30667487 -0.92956959  1.90510128 ..., -0.62275494  0.0382571\n",
      "   1.63703416]\n",
      " [ 5.30561494 -0.85454574  0.31833646 ...,  2.09657701  0.13078417\n",
      "  -0.58492963]\n",
      " ..., \n",
      " [ 2.05240889  2.15125737 -1.48057153 ..., -0.4447594  -0.15060593\n",
      "   1.58367413]\n",
      " [-2.81630213 -1.75674866 -2.24625688 ..., -0.09081311  0.2944134\n",
      "  -0.92833518]\n",
      " [ 0.58749392 -1.84091458  0.12531649 ..., -0.0266391   0.37703195\n",
      "  -0.72721305]]\n"
     ]
    }
   ],
   "source": [
    "#Looking at above plot I'm taking 30 variables\n",
    "pca = PCA(n_components=10)\n",
    "#pca.fit(X)\n",
    "X1=pca.fit_transform(X)\n",
    "Xtest=pca.fit_transform(Xt)\n",
    "\n",
    "print Xtest"
   ]
  },
  {
   "cell_type": "markdown",
   "metadata": {},
   "source": [
    "## Final model"
   ]
  },
  {
   "cell_type": "code",
   "execution_count": 11,
   "metadata": {
    "collapsed": true
   },
   "outputs": [],
   "source": [
    "from matplotlib.colors import ListedColormap\n",
    "from sklearn.cross_validation import train_test_split\n",
    "from sklearn.preprocessing import StandardScaler\n",
    "from sklearn.datasets import make_moons, make_circles, make_classification\n",
    "from sklearn.neighbors import KNeighborsClassifier\n",
    "from sklearn.svm import SVC\n",
    "from sklearn.tree import DecisionTreeClassifier\n",
    "from sklearn.ensemble import RandomForestClassifier, AdaBoostClassifier\n",
    "from sklearn.naive_bayes import GaussianNB\n",
    "from sklearn.discriminant_analysis import LinearDiscriminantAnalysis\n",
    "from sklearn.discriminant_analysis import QuadraticDiscriminantAnalysis\n",
    "\n",
    "names = [\"Nearest Neighbors\", \"Linear SVM\", \"RBF SVM\", \"Decision Tree\",\n",
    "         \"Random Forest\", \"AdaBoost\", \"Naive Bayes\", \"Linear Discriminant Analysis\",\n",
    "         \"Quadratic Discriminant Analysis\"]\n",
    "classifiers = [\n",
    "    KNeighborsClassifier(2),\n",
    "    SVC(kernel=\"linear\", C=0.025),\n",
    "    SVC(gamma=2, C=1),\n",
    "    DecisionTreeClassifier(max_depth=5),\n",
    "    RandomForestClassifier(max_depth=5, n_estimators=600, max_features=1),\n",
    "    AdaBoostClassifier(),\n",
    "    GaussianNB(),\n",
    "    LinearDiscriminantAnalysis(),\n",
    "    QuadraticDiscriminantAnalysis()]\n"
   ]
  },
  {
   "cell_type": "code",
   "execution_count": 12,
   "metadata": {
    "collapsed": false
   },
   "outputs": [
    {
     "name": "stdout",
     "output_type": "stream",
     "text": [
      "****************************************************************************************************\n",
      "****************************************************************************************************\n",
      "Classifier is Nearest Neighbors\n",
      "SCORE0.507253819489\n",
      "****************************************************************************************************\n",
      "****************************************************************************************************\n",
      "Classifier is Linear SVM\n",
      "SCORE0.532931056618\n",
      "****************************************************************************************************\n",
      "****************************************************************************************************\n",
      "Classifier is RBF SVM\n",
      "SCORE0.508922839902\n",
      "****************************************************************************************************\n",
      "****************************************************************************************************\n",
      "Classifier is Decision Tree\n",
      "SCORE0.549492874567\n",
      "****************************************************************************************************\n",
      "****************************************************************************************************\n",
      "Classifier is Random Forest\n",
      "SCORE0.544485813326\n",
      "****************************************************************************************************\n",
      "****************************************************************************************************\n",
      "Classifier is AdaBoost\n",
      "SCORE0.543330337656\n",
      "****************************************************************************************************\n",
      "****************************************************************************************************\n",
      "Classifier is Naive Bayes\n",
      "SCORE0.531005263834\n",
      "****************************************************************************************************\n",
      "****************************************************************************************************\n",
      "Classifier is Linear Discriminant Analysis\n",
      "SCORE0.534086532289\n",
      "****************************************************************************************************\n",
      "****************************************************************************************************\n",
      "Classifier is Quadratic Discriminant Analysis\n",
      "SCORE0.538451662601\n"
     ]
    }
   ],
   "source": [
    "# iterate over classifiers\n",
    "for name, clf in zip(names, classifiers):\n",
    "    clf.fit(X1, y_train)\n",
    "    score = clf.score(Xtest, y_test)\n",
    "    print '*'*100\n",
    "    print '*'*100\n",
    "    print \"Classifier is \" + str(name)\n",
    "    \n",
    "    print \"SCORE\" + str(score)\n",
    "    "
   ]
  },
  {
   "cell_type": "code",
   "execution_count": 8,
   "metadata": {
    "collapsed": false
   },
   "outputs": [],
   "source": []
  },
  {
   "cell_type": "code",
   "execution_count": null,
   "metadata": {
    "collapsed": false
   },
   "outputs": [],
   "source": []
  }
 ],
 "metadata": {
  "kernelspec": {
   "display_name": "Python 2",
   "language": "python",
   "name": "python2"
  },
  "language_info": {
   "codemirror_mode": {
    "name": "ipython",
    "version": 2
   },
   "file_extension": ".py",
   "mimetype": "text/x-python",
   "name": "python",
   "nbconvert_exporter": "python",
   "pygments_lexer": "ipython2",
   "version": "2.7.12"
  }
 },
 "nbformat": 4,
 "nbformat_minor": 0
}
